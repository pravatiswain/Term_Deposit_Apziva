{
 "cells": [
  {
   "cell_type": "markdown",
   "metadata": {},
   "source": [
    "### Problem Statement\n",
    "\n",
    "__Predicting customer subscriptions to a term deposit based on the phone conversations with the customer and to improve success rate for calls made to customers.__\n",
    "\n",
    "This is the call center data from a small startup providing machine learning solutions in the European banking market. The company is looking for ways to improve the success rate for calls made to customers for any product their clients offer. Towards this goal,they are looking for an ever evolving machine learning product that offers high success outcomes while offering interpretability for their clients to make informed decisions.\n",
    "\n",
    "#### Data Description:\n",
    "\n",
    "The data comes from direct marketing efforts of a European banking institution. The marketing campaign involves making a phone call to a customer, often multiple times to ensure a product subscription, in this case a term deposit. Term deposits are usually short-term deposits with maturities ranging from one month to a few years. The customer must understand when buying a term deposit that they can withdraw their funds only after the term ends. All customer information that might reveal personal information is removed due to privacy concerns.\n",
    "\n",
    "__Attributes:__\n",
    "\n",
    "age : age of customer (numeric)\n",
    "\n",
    "job : type of job (categorical)\n",
    "\n",
    "marital : marital status (categorical)\n",
    "\n",
    "education (categorical)\n",
    "\n",
    "default: has credit in default? (binary)\n",
    "\n",
    "balance: average yearly balance, in euros (numeric)\n",
    "\n",
    "housing: has a housing loan? (binary)\n",
    "\n",
    "loan: has personal loan? (binary)\n",
    "\n",
    "contact: contact communication type (categorical)\n",
    "\n",
    "day: last contact day of the month (numeric)\n",
    "\n",
    "month: last contact month of year (categorical)\n",
    "\n",
    "duration: last contact duration, in seconds (numeric)\n",
    "\n",
    "campaign: number of contacts performed during this campaign and for this client (numeric, includes last contact)\n",
    "\n",
    "Output (desired target):\n",
    "\n",
    "y - has the client subscribed to a term deposit? (binary)\n",
    "\n",
    "\n",
    "__Download Data:__ [here](https://drive.google.com/file/d/1EW-XMnGfxn-qzGtGPa3v_C63Yqj2aGf7)\n",
    "\n",
    "\n",
    "#### Goal(s):\n",
    "\n",
    "Predict if the customer will subscribe (yes/no) to a term deposit (variable y)\n",
    "\n",
    "__Success Metric(s):__\n",
    "\n",
    "Hit %81 or above accuracy by evaluating with 5-fold cross validation and reporting the average performance score.\n",
    "\n",
    "__Bonus(es):__\n",
    "\n",
    "- We are also interested in finding customers who are more likely to buy the investment product. Determine the segment(s) of customers our client should prioritize.\n",
    "\n",
    "- What makes the customers buy? Tell us which feature we should be focusing more on.\n",
    "\n"
   ]
  },
  {
   "cell_type": "code",
   "execution_count": 1,
   "metadata": {},
   "outputs": [],
   "source": [
    "# import libraries\n",
    "import pandas as pd\n",
    "import numpy as np\n",
    "import matplotlib.pyplot as plt\n",
    "import seaborn as sns"
   ]
  },
  {
   "cell_type": "code",
   "execution_count": 3,
   "metadata": {},
   "outputs": [
    {
     "name": "stderr",
     "output_type": "stream",
     "text": [
      "/opt/anaconda3/lib/python3.7/site-packages/sklearn/utils/deprecation.py:143: FutureWarning: The sklearn.utils.testing module is  deprecated in version 0.22 and will be removed in version 0.24. The corresponding classes / functions should instead be imported from sklearn.utils. Anything that cannot be imported from sklearn.utils is now part of the private API.\n",
      "  warnings.warn(message, FutureWarning)\n"
     ]
    }
   ],
   "source": [
    "# Import scikit-learn tools, grid search cross validation, and classifiers\n",
    "\n",
    "from sklearn import metrics\n",
    "from sklearn.metrics import roc_curve\n",
    "from sklearn.metrics import classification_report\n",
    "\n",
    "from sklearn.model_selection import train_test_split, cross_val_score,RandomizedSearchCV,GridSearchCV, KFold\n",
    "# import Random Forest Classifier\n",
    "from sklearn.ensemble import RandomForestClassifier\n",
    "\n",
    "# import Logistic Regression CV Classifier\n",
    "from sklearn.linear_model import LogisticRegression\n",
    "\n",
    "from sklearn.metrics import f1_score, precision_score, recall_score, accuracy_score, confusion_matrix, roc_auc_score\n",
    "\n",
    "from sklearn.pipeline import make_pipeline\n",
    "from sklearn.preprocessing import StandardScaler\n",
    "\n",
    "# import lazy predict\n",
    "import lazypredict\n",
    "\n",
    "from lazypredict.Supervised import LazyClassifier"
   ]
  },
  {
   "cell_type": "code",
   "execution_count": 30,
   "metadata": {},
   "outputs": [],
   "source": [
    "from xgboost import XGBClassifier\n",
    "from lightgbm import LGBMClassifier\n",
    "from sklearn.neighbors import KNeighborsClassifier\n",
    "# import Recursive Feature Elimination (RFE)\n",
    "from sklearn.feature_selection import RFE"
   ]
  },
  {
   "cell_type": "code",
   "execution_count": 40,
   "metadata": {},
   "outputs": [
    {
     "name": "stdout",
     "output_type": "stream",
     "text": [
      "0.7.0\n"
     ]
    }
   ],
   "source": [
    "import imblearn\n",
    "print(imblearn.__version__)\n",
    "from collections import Counter\n",
    "from imblearn.over_sampling import RandomOverSampler\n",
    "from imblearn.under_sampling import RandomUnderSampler\n",
    "from imblearn.pipeline import Pipeline\n",
    "from imblearn.over_sampling import SMOTE"
   ]
  },
  {
   "cell_type": "code",
   "execution_count": 6,
   "metadata": {},
   "outputs": [
    {
     "data": {
      "text/html": [
       "<div>\n",
       "<style scoped>\n",
       "    .dataframe tbody tr th:only-of-type {\n",
       "        vertical-align: middle;\n",
       "    }\n",
       "\n",
       "    .dataframe tbody tr th {\n",
       "        vertical-align: top;\n",
       "    }\n",
       "\n",
       "    .dataframe thead th {\n",
       "        text-align: right;\n",
       "    }\n",
       "</style>\n",
       "<table border=\"1\" class=\"dataframe\">\n",
       "  <thead>\n",
       "    <tr style=\"text-align: right;\">\n",
       "      <th></th>\n",
       "      <th>age</th>\n",
       "      <th>job</th>\n",
       "      <th>marital</th>\n",
       "      <th>education</th>\n",
       "      <th>default</th>\n",
       "      <th>balance</th>\n",
       "      <th>housing</th>\n",
       "      <th>loan</th>\n",
       "      <th>contact</th>\n",
       "      <th>day</th>\n",
       "      <th>month</th>\n",
       "      <th>duration</th>\n",
       "      <th>campaign</th>\n",
       "      <th>y</th>\n",
       "    </tr>\n",
       "  </thead>\n",
       "  <tbody>\n",
       "    <tr>\n",
       "      <th>0</th>\n",
       "      <td>58</td>\n",
       "      <td>management</td>\n",
       "      <td>married</td>\n",
       "      <td>tertiary</td>\n",
       "      <td>no</td>\n",
       "      <td>2143</td>\n",
       "      <td>yes</td>\n",
       "      <td>no</td>\n",
       "      <td>unknown</td>\n",
       "      <td>5</td>\n",
       "      <td>may</td>\n",
       "      <td>261</td>\n",
       "      <td>1</td>\n",
       "      <td>no</td>\n",
       "    </tr>\n",
       "    <tr>\n",
       "      <th>1</th>\n",
       "      <td>44</td>\n",
       "      <td>technician</td>\n",
       "      <td>single</td>\n",
       "      <td>secondary</td>\n",
       "      <td>no</td>\n",
       "      <td>29</td>\n",
       "      <td>yes</td>\n",
       "      <td>no</td>\n",
       "      <td>unknown</td>\n",
       "      <td>5</td>\n",
       "      <td>may</td>\n",
       "      <td>151</td>\n",
       "      <td>1</td>\n",
       "      <td>no</td>\n",
       "    </tr>\n",
       "    <tr>\n",
       "      <th>2</th>\n",
       "      <td>33</td>\n",
       "      <td>entrepreneur</td>\n",
       "      <td>married</td>\n",
       "      <td>secondary</td>\n",
       "      <td>no</td>\n",
       "      <td>2</td>\n",
       "      <td>yes</td>\n",
       "      <td>yes</td>\n",
       "      <td>unknown</td>\n",
       "      <td>5</td>\n",
       "      <td>may</td>\n",
       "      <td>76</td>\n",
       "      <td>1</td>\n",
       "      <td>no</td>\n",
       "    </tr>\n",
       "    <tr>\n",
       "      <th>3</th>\n",
       "      <td>47</td>\n",
       "      <td>blue-collar</td>\n",
       "      <td>married</td>\n",
       "      <td>unknown</td>\n",
       "      <td>no</td>\n",
       "      <td>1506</td>\n",
       "      <td>yes</td>\n",
       "      <td>no</td>\n",
       "      <td>unknown</td>\n",
       "      <td>5</td>\n",
       "      <td>may</td>\n",
       "      <td>92</td>\n",
       "      <td>1</td>\n",
       "      <td>no</td>\n",
       "    </tr>\n",
       "    <tr>\n",
       "      <th>4</th>\n",
       "      <td>33</td>\n",
       "      <td>unknown</td>\n",
       "      <td>single</td>\n",
       "      <td>unknown</td>\n",
       "      <td>no</td>\n",
       "      <td>1</td>\n",
       "      <td>no</td>\n",
       "      <td>no</td>\n",
       "      <td>unknown</td>\n",
       "      <td>5</td>\n",
       "      <td>may</td>\n",
       "      <td>198</td>\n",
       "      <td>1</td>\n",
       "      <td>no</td>\n",
       "    </tr>\n",
       "  </tbody>\n",
       "</table>\n",
       "</div>"
      ],
      "text/plain": [
       "   age           job  marital  education default  balance housing loan  \\\n",
       "0   58    management  married   tertiary      no     2143     yes   no   \n",
       "1   44    technician   single  secondary      no       29     yes   no   \n",
       "2   33  entrepreneur  married  secondary      no        2     yes  yes   \n",
       "3   47   blue-collar  married    unknown      no     1506     yes   no   \n",
       "4   33       unknown   single    unknown      no        1      no   no   \n",
       "\n",
       "   contact  day month  duration  campaign   y  \n",
       "0  unknown    5   may       261         1  no  \n",
       "1  unknown    5   may       151         1  no  \n",
       "2  unknown    5   may        76         1  no  \n",
       "3  unknown    5   may        92         1  no  \n",
       "4  unknown    5   may       198         1  no  "
      ]
     },
     "execution_count": 6,
     "metadata": {},
     "output_type": "execute_result"
    }
   ],
   "source": [
    "# load the dataset\n",
    "marketing_data = pd.read_csv('term-deposit-marketing-2020.csv')\n",
    "marketing_data.head()"
   ]
  },
  {
   "cell_type": "code",
   "execution_count": 7,
   "metadata": {},
   "outputs": [
    {
     "data": {
      "text/html": [
       "<div>\n",
       "<style scoped>\n",
       "    .dataframe tbody tr th:only-of-type {\n",
       "        vertical-align: middle;\n",
       "    }\n",
       "\n",
       "    .dataframe tbody tr th {\n",
       "        vertical-align: top;\n",
       "    }\n",
       "\n",
       "    .dataframe thead th {\n",
       "        text-align: right;\n",
       "    }\n",
       "</style>\n",
       "<table border=\"1\" class=\"dataframe\">\n",
       "  <thead>\n",
       "    <tr style=\"text-align: right;\">\n",
       "      <th></th>\n",
       "      <th>age</th>\n",
       "      <th>job</th>\n",
       "      <th>marital</th>\n",
       "      <th>education</th>\n",
       "      <th>credit_default</th>\n",
       "      <th>avg_yearly_balance</th>\n",
       "      <th>housing_loan</th>\n",
       "      <th>personal_loan</th>\n",
       "      <th>contact</th>\n",
       "      <th>day</th>\n",
       "      <th>month</th>\n",
       "      <th>duration</th>\n",
       "      <th>no_of_contacts</th>\n",
       "      <th>client_subscribed</th>\n",
       "    </tr>\n",
       "  </thead>\n",
       "  <tbody>\n",
       "    <tr>\n",
       "      <th>0</th>\n",
       "      <td>58</td>\n",
       "      <td>management</td>\n",
       "      <td>married</td>\n",
       "      <td>tertiary</td>\n",
       "      <td>no</td>\n",
       "      <td>2143</td>\n",
       "      <td>yes</td>\n",
       "      <td>no</td>\n",
       "      <td>unknown</td>\n",
       "      <td>5</td>\n",
       "      <td>may</td>\n",
       "      <td>261</td>\n",
       "      <td>1</td>\n",
       "      <td>no</td>\n",
       "    </tr>\n",
       "    <tr>\n",
       "      <th>1</th>\n",
       "      <td>44</td>\n",
       "      <td>technician</td>\n",
       "      <td>single</td>\n",
       "      <td>secondary</td>\n",
       "      <td>no</td>\n",
       "      <td>29</td>\n",
       "      <td>yes</td>\n",
       "      <td>no</td>\n",
       "      <td>unknown</td>\n",
       "      <td>5</td>\n",
       "      <td>may</td>\n",
       "      <td>151</td>\n",
       "      <td>1</td>\n",
       "      <td>no</td>\n",
       "    </tr>\n",
       "    <tr>\n",
       "      <th>2</th>\n",
       "      <td>33</td>\n",
       "      <td>entrepreneur</td>\n",
       "      <td>married</td>\n",
       "      <td>secondary</td>\n",
       "      <td>no</td>\n",
       "      <td>2</td>\n",
       "      <td>yes</td>\n",
       "      <td>yes</td>\n",
       "      <td>unknown</td>\n",
       "      <td>5</td>\n",
       "      <td>may</td>\n",
       "      <td>76</td>\n",
       "      <td>1</td>\n",
       "      <td>no</td>\n",
       "    </tr>\n",
       "    <tr>\n",
       "      <th>3</th>\n",
       "      <td>47</td>\n",
       "      <td>blue-collar</td>\n",
       "      <td>married</td>\n",
       "      <td>unknown</td>\n",
       "      <td>no</td>\n",
       "      <td>1506</td>\n",
       "      <td>yes</td>\n",
       "      <td>no</td>\n",
       "      <td>unknown</td>\n",
       "      <td>5</td>\n",
       "      <td>may</td>\n",
       "      <td>92</td>\n",
       "      <td>1</td>\n",
       "      <td>no</td>\n",
       "    </tr>\n",
       "    <tr>\n",
       "      <th>4</th>\n",
       "      <td>33</td>\n",
       "      <td>unknown</td>\n",
       "      <td>single</td>\n",
       "      <td>unknown</td>\n",
       "      <td>no</td>\n",
       "      <td>1</td>\n",
       "      <td>no</td>\n",
       "      <td>no</td>\n",
       "      <td>unknown</td>\n",
       "      <td>5</td>\n",
       "      <td>may</td>\n",
       "      <td>198</td>\n",
       "      <td>1</td>\n",
       "      <td>no</td>\n",
       "    </tr>\n",
       "  </tbody>\n",
       "</table>\n",
       "</div>"
      ],
      "text/plain": [
       "   age           job  marital  education credit_default  avg_yearly_balance  \\\n",
       "0   58    management  married   tertiary             no                2143   \n",
       "1   44    technician   single  secondary             no                  29   \n",
       "2   33  entrepreneur  married  secondary             no                   2   \n",
       "3   47   blue-collar  married    unknown             no                1506   \n",
       "4   33       unknown   single    unknown             no                   1   \n",
       "\n",
       "  housing_loan personal_loan  contact  day month  duration  no_of_contacts  \\\n",
       "0          yes            no  unknown    5   may       261               1   \n",
       "1          yes            no  unknown    5   may       151               1   \n",
       "2          yes           yes  unknown    5   may        76               1   \n",
       "3          yes            no  unknown    5   may        92               1   \n",
       "4           no            no  unknown    5   may       198               1   \n",
       "\n",
       "  client_subscribed  \n",
       "0                no  \n",
       "1                no  \n",
       "2                no  \n",
       "3                no  \n",
       "4                no  "
      ]
     },
     "execution_count": 7,
     "metadata": {},
     "output_type": "execute_result"
    }
   ],
   "source": [
    "# rename some of the column for better understanding\n",
    "marketing_data = marketing_data.rename(columns={'default': 'credit_default', 'balance': 'avg_yearly_balance', 'housing':'housing_loan', 'loan': 'personal_loan', 'campaign': 'no_of_contacts', 'y': 'client_subscribed'})\n",
    "marketing_data.head()"
   ]
  },
  {
   "cell_type": "code",
   "execution_count": 8,
   "metadata": {},
   "outputs": [
    {
     "name": "stdout",
     "output_type": "stream",
     "text": [
      "<class 'pandas.core.frame.DataFrame'>\n",
      "RangeIndex: 40000 entries, 0 to 39999\n",
      "Data columns (total 14 columns):\n",
      " #   Column              Non-Null Count  Dtype \n",
      "---  ------              --------------  ----- \n",
      " 0   age                 40000 non-null  int64 \n",
      " 1   job                 40000 non-null  object\n",
      " 2   marital             40000 non-null  object\n",
      " 3   education           40000 non-null  object\n",
      " 4   credit_default      40000 non-null  object\n",
      " 5   avg_yearly_balance  40000 non-null  int64 \n",
      " 6   housing_loan        40000 non-null  object\n",
      " 7   personal_loan       40000 non-null  object\n",
      " 8   contact             40000 non-null  object\n",
      " 9   day                 40000 non-null  int64 \n",
      " 10  month               40000 non-null  object\n",
      " 11  duration            40000 non-null  int64 \n",
      " 12  no_of_contacts      40000 non-null  int64 \n",
      " 13  client_subscribed   40000 non-null  object\n",
      "dtypes: int64(5), object(9)\n",
      "memory usage: 4.3+ MB\n"
     ]
    }
   ],
   "source": [
    "marketing_data.info()"
   ]
  },
  {
   "cell_type": "code",
   "execution_count": 9,
   "metadata": {},
   "outputs": [
    {
     "data": {
      "text/html": [
       "<div>\n",
       "<style scoped>\n",
       "    .dataframe tbody tr th:only-of-type {\n",
       "        vertical-align: middle;\n",
       "    }\n",
       "\n",
       "    .dataframe tbody tr th {\n",
       "        vertical-align: top;\n",
       "    }\n",
       "\n",
       "    .dataframe thead th {\n",
       "        text-align: right;\n",
       "    }\n",
       "</style>\n",
       "<table border=\"1\" class=\"dataframe\">\n",
       "  <thead>\n",
       "    <tr style=\"text-align: right;\">\n",
       "      <th></th>\n",
       "      <th>age</th>\n",
       "      <th>avg_yearly_balance</th>\n",
       "      <th>day</th>\n",
       "      <th>duration</th>\n",
       "      <th>no_of_contacts</th>\n",
       "    </tr>\n",
       "  </thead>\n",
       "  <tbody>\n",
       "    <tr>\n",
       "      <th>count</th>\n",
       "      <td>40000.00</td>\n",
       "      <td>40000.00</td>\n",
       "      <td>40000.00</td>\n",
       "      <td>40000.00</td>\n",
       "      <td>40000.00</td>\n",
       "    </tr>\n",
       "    <tr>\n",
       "      <th>mean</th>\n",
       "      <td>40.54</td>\n",
       "      <td>1274.28</td>\n",
       "      <td>16.02</td>\n",
       "      <td>254.82</td>\n",
       "      <td>2.88</td>\n",
       "    </tr>\n",
       "    <tr>\n",
       "      <th>std</th>\n",
       "      <td>9.64</td>\n",
       "      <td>2903.77</td>\n",
       "      <td>8.28</td>\n",
       "      <td>259.37</td>\n",
       "      <td>3.24</td>\n",
       "    </tr>\n",
       "    <tr>\n",
       "      <th>min</th>\n",
       "      <td>19.00</td>\n",
       "      <td>-8019.00</td>\n",
       "      <td>1.00</td>\n",
       "      <td>0.00</td>\n",
       "      <td>1.00</td>\n",
       "    </tr>\n",
       "    <tr>\n",
       "      <th>25%</th>\n",
       "      <td>33.00</td>\n",
       "      <td>54.00</td>\n",
       "      <td>8.00</td>\n",
       "      <td>100.00</td>\n",
       "      <td>1.00</td>\n",
       "    </tr>\n",
       "    <tr>\n",
       "      <th>50%</th>\n",
       "      <td>39.00</td>\n",
       "      <td>407.00</td>\n",
       "      <td>17.00</td>\n",
       "      <td>175.00</td>\n",
       "      <td>2.00</td>\n",
       "    </tr>\n",
       "    <tr>\n",
       "      <th>75%</th>\n",
       "      <td>48.00</td>\n",
       "      <td>1319.00</td>\n",
       "      <td>21.00</td>\n",
       "      <td>313.00</td>\n",
       "      <td>3.00</td>\n",
       "    </tr>\n",
       "    <tr>\n",
       "      <th>max</th>\n",
       "      <td>95.00</td>\n",
       "      <td>102127.00</td>\n",
       "      <td>31.00</td>\n",
       "      <td>4918.00</td>\n",
       "      <td>63.00</td>\n",
       "    </tr>\n",
       "  </tbody>\n",
       "</table>\n",
       "</div>"
      ],
      "text/plain": [
       "           age  avg_yearly_balance      day  duration  no_of_contacts\n",
       "count 40000.00            40000.00 40000.00  40000.00        40000.00\n",
       "mean     40.54             1274.28    16.02    254.82            2.88\n",
       "std       9.64             2903.77     8.28    259.37            3.24\n",
       "min      19.00            -8019.00     1.00      0.00            1.00\n",
       "25%      33.00               54.00     8.00    100.00            1.00\n",
       "50%      39.00              407.00    17.00    175.00            2.00\n",
       "75%      48.00             1319.00    21.00    313.00            3.00\n",
       "max      95.00           102127.00    31.00   4918.00           63.00"
      ]
     },
     "execution_count": 9,
     "metadata": {},
     "output_type": "execute_result"
    }
   ],
   "source": [
    "marketing_data.describe()"
   ]
  },
  {
   "cell_type": "markdown",
   "metadata": {},
   "source": [
    "### Exploratory Data Analysis"
   ]
  },
  {
   "cell_type": "code",
   "execution_count": 6,
   "metadata": {},
   "outputs": [],
   "source": [
    "# Create a function for distribution plot\n",
    "def count_plot_(column_name, dataset):\n",
    "    ax = sns.countplot(x=column_name, data= dataset)\n",
    "    for p in ax.patches:\n",
    "        height = p.get_height()\n",
    "        ax.text(p.get_x()+p.get_width()/2.,\n",
    "            height + 3,\n",
    "            '{:1.2f}'.format(height/float(len(dataset))),\n",
    "            ha=\"center\")\n",
    "        ax.set_box_aspect(3/len(ax.patches))\n"
   ]
  },
  {
   "cell_type": "code",
   "execution_count": 7,
   "metadata": {},
   "outputs": [
    {
     "data": {
      "image/png": "[encoded data removed]",
      "text/plain": [
       "<Figure size 576x576 with 1 Axes>"
      ]
     },
     "metadata": {
      "needs_background": "light"
     },
     "output_type": "display_data"
    }
   ],
   "source": [
    "# Distribution of client subscription to term deposit\n",
    "plt.figure(figsize=(8, 8))\n",
    "count_plot_('client_subscribed', marketing_data)\n",
    "plt.show()"
   ]
  },
  {
   "cell_type": "markdown",
   "metadata": {},
   "source": [
    "__In the dataset only 7 % of customers subscribed to the term deposit. The dataset is highly imbalanced.__"
   ]
  },
  {
   "cell_type": "code",
   "execution_count": 8,
   "metadata": {},
   "outputs": [],
   "source": [
    "# Create a function for distribution plot\n",
    "def count_plot(column_name, dataset, x=0, y=0):\n",
    "    ax = sns.countplot(x=column_name, data= dataset, ax = axes[x, y])\n",
    "    ax.set_xticklabels(ax.get_xticklabels(),rotation=60)\n",
    "    for p in ax.patches:\n",
    "        height = p.get_height()\n",
    "        ax.text(p.get_x()+p.get_width()/2.,\n",
    "            height + 3,\n",
    "            '{:1.2f}'.format(height/float(len(dataset))),\n",
    "            ha=\"center\")\n",
    "        ax.set_box_aspect(3/len(ax.patches))"
   ]
  },
  {
   "cell_type": "code",
   "execution_count": 9,
   "metadata": {},
   "outputs": [
    {
     "data": {
      "image/png": "[encoded data removed]",
      "text/plain": [
       "<Figure size 1440x1296 with 8 Axes>"
      ]
     },
     "metadata": {
      "needs_background": "light"
     },
     "output_type": "display_data"
    }
   ],
   "source": [
    "# Distribution of categorical variables\n",
    "fig, axes =plt.subplots(4,2, figsize=(20, 18))\n",
    "count_plot('education', marketing_data, x = 0, y= 0)\n",
    "count_plot('contact', marketing_data, x =0, y= 1)\n",
    "count_plot('marital', marketing_data, x = 1, y= 0)\n",
    "count_plot('credit_default', marketing_data, x = 1, y= 1)\n",
    "count_plot('housing_loan', marketing_data, x =2, y= 0)\n",
    "count_plot('personal_loan', marketing_data, x = 2, y= 1)\n",
    "count_plot('job', marketing_data,x = 3, y= 0 )\n",
    "count_plot('month', marketing_data,x = 3, y= 1 )\n",
    "\n",
    "\n",
    "plt.tight_layout()\n",
    "plt.show()"
   ]
  },
  {
   "cell_type": "markdown",
   "metadata": {},
   "source": [
    "From the distribution of the categorical variables\n",
    "- About 50 % of the customers had secondary education and ~60% customers are married.\n",
    "- Calls has been a\\made to most of the customers who does not have any credit default. Only about 2% of the customers has credit default in this dataset.\n",
    "- About 60% of the customers have housing load and 80% of customers don't have personal loan. So less calls were made to customers with personal loan.\n",
    "- In this dataset most calls were made to blue-collar, management, technician job holders and least calls to students\n",
    "- Most of the calls were made on the month of May which is the start month and it seems more calls were made in the begining and first 4 months of the plan and then it decreased. Least calls were made during the month of October. \n",
    "- Most of the call made from cell phones."
   ]
  },
  {
   "cell_type": "code",
   "execution_count": 10,
   "metadata": {},
   "outputs": [
    {
     "data": {
      "image/png": "[encoded data removed]",
      "text/plain": [
       "<Figure size 1296x432 with 3 Axes>"
      ]
     },
     "metadata": {
      "needs_background": "light"
     },
     "output_type": "display_data"
    }
   ],
   "source": [
    "# Distribution of numerical variables w.r.t client_subscribed\n",
    "\n",
    "plt.figure(figsize=(18, 6))\n",
    "plt.subplot(1,3,1); sns.boxplot(x = 'client_subscribed', y = 'age', data = marketing_data, showfliers=False, color='#348ABD').set(xlabel= 'client_subscribed', ylabel='age')\n",
    "plt.subplot(1,3,2); sns.boxplot(x = 'client_subscribed', y = 'avg_yearly_balance', data = marketing_data, showfliers=False, color='#A60628').set(xlabel= 'client_subscribed', ylabel='avg_yearly_balance')\n",
    "plt.subplot(1,3,3);sns.boxplot(x = 'client_subscribed', y = 'day', data = marketing_data, showfliers=False, color='#467821').set(xlabel= 'client_subscribed', ylabel='day')\n",
    "\n",
    "plt.tight_layout(pad=2)"
   ]
  },
  {
   "cell_type": "markdown",
   "metadata": {},
   "source": [
    "- The average age of clients who subscribed is about 35 and their avrage salary is higher than the clients who are not subscribed.\n",
    "- The day when the client has been contacted does not have any effect on whether the client subscribed or not."
   ]
  },
  {
   "cell_type": "code",
   "execution_count": 11,
   "metadata": {},
   "outputs": [
    {
     "data": {
      "image/png": "[encoded data removed]",
      "text/plain": [
       "<Figure size 1296x432 with 2 Axes>"
      ]
     },
     "metadata": {
      "needs_background": "light"
     },
     "output_type": "display_data"
    }
   ],
   "source": [
    "plt.figure(figsize=(18, 6))\n",
    "plt.subplot(1,2,1);sns.boxplot(x = 'client_subscribed', y = 'duration', data = marketing_data, showfliers=False, color='#467821').set(xlabel= 'client_subscribed', ylabel='duration')\n",
    "plt.subplot(1,2,2);sns.boxplot(x = 'client_subscribed', y = 'no_of_contacts', data = marketing_data, showfliers=False, color='#467821').set(xlabel= 'client_subscribed', ylabel='no_of_contacts')\n",
    "plt.tight_layout(pad=2)"
   ]
  },
  {
   "cell_type": "markdown",
   "metadata": {},
   "source": [
    "- It seems the duration of call with the customer has large effect on whether the client subscribed or not.\n",
    "- The clients who subscribed the term deposit plan had longer conversation with the agent. It might be the agent explained the plan very well so they got interested to know about it more and finally decided to subscribe.\n",
    "- From this data it seems like number of contacts does not change the mind of a client to subscribe or not to the term deposit plan."
   ]
  },
  {
   "cell_type": "code",
   "execution_count": 27,
   "metadata": {},
   "outputs": [],
   "source": [
    "# define a function for the distribution of categorical variables w.r.t. client_subscribed\n",
    "def count_plot_(column_name, dataset,hue, x=0, y=0):\n",
    "    ax = sns.countplot(x=column_name, data= dataset,hue= hue, ax = axes[x, y])\n",
    "    ax.set_xticklabels(ax.get_xticklabels(),rotation=60)\n",
    "    for p in ax.patches:\n",
    "        height = p.get_height()\n",
    "        ax.text(p.get_x()+p.get_width()/2.,\n",
    "            height + 3,\n",
    "            '{:1.2f}'.format(height/float(len(dataset))),\n",
    "            ha=\"center\")\n",
    "        ax.set_box_aspect(3/len(ax.patches))"
   ]
  },
  {
   "cell_type": "code",
   "execution_count": 29,
   "metadata": {},
   "outputs": [
    {
     "data": {
      "image/png": "[encoded data removed]",
      "text/plain": [
       "<Figure size 1440x1152 with 6 Axes>"
      ]
     },
     "metadata": {
      "needs_background": "light"
     },
     "output_type": "display_data"
    }
   ],
   "source": [
    "# Distribution of categorical variables w.r.t. client_subscribed\n",
    "fig, axes =plt.subplots(3,2, figsize=(20, 16))\n",
    "count_plot_('education', marketing_data,hue = marketing_data['client_subscribed'], x = 0, y= 0)\n",
    "count_plot_('contact', marketing_data,hue = marketing_data['client_subscribed'], x =0, y= 1)\n",
    "count_plot_('marital', marketing_data,hue = marketing_data['client_subscribed'], x = 1, y= 0)\n",
    "count_plot_('credit_default', marketing_data,hue = marketing_data['client_subscribed'], x = 1, y= 1)\n",
    "count_plot_('housing_loan', marketing_data,hue = marketing_data['client_subscribed'], x =2, y= 0)\n",
    "count_plot_('personal_loan', marketing_data,hue = marketing_data['client_subscribed'], x = 2, y= 1)\n",
    "\n",
    "plt.tight_layout()\n",
    "plt.show()"
   ]
  },
  {
   "cell_type": "markdown",
   "metadata": {},
   "source": [
    "## Machine Learning\n",
    "\n",
    "From the EDA I saw there are no effect of day and no of contacts in the client subscription. so I will be removing these features from the dataset before doing the machine learning."
   ]
  },
  {
   "cell_type": "code",
   "execution_count": 10,
   "metadata": {},
   "outputs": [
    {
     "data": {
      "text/html": [
       "<div>\n",
       "<style scoped>\n",
       "    .dataframe tbody tr th:only-of-type {\n",
       "        vertical-align: middle;\n",
       "    }\n",
       "\n",
       "    .dataframe tbody tr th {\n",
       "        vertical-align: top;\n",
       "    }\n",
       "\n",
       "    .dataframe thead th {\n",
       "        text-align: right;\n",
       "    }\n",
       "</style>\n",
       "<table border=\"1\" class=\"dataframe\">\n",
       "  <thead>\n",
       "    <tr style=\"text-align: right;\">\n",
       "      <th></th>\n",
       "      <th>age</th>\n",
       "      <th>job</th>\n",
       "      <th>marital</th>\n",
       "      <th>education</th>\n",
       "      <th>credit_default</th>\n",
       "      <th>avg_yearly_balance</th>\n",
       "      <th>housing_loan</th>\n",
       "      <th>personal_loan</th>\n",
       "      <th>contact</th>\n",
       "      <th>month</th>\n",
       "      <th>duration</th>\n",
       "      <th>client_subscribed</th>\n",
       "    </tr>\n",
       "  </thead>\n",
       "  <tbody>\n",
       "    <tr>\n",
       "      <th>0</th>\n",
       "      <td>58</td>\n",
       "      <td>management</td>\n",
       "      <td>married</td>\n",
       "      <td>tertiary</td>\n",
       "      <td>no</td>\n",
       "      <td>2143</td>\n",
       "      <td>yes</td>\n",
       "      <td>no</td>\n",
       "      <td>unknown</td>\n",
       "      <td>may</td>\n",
       "      <td>261</td>\n",
       "      <td>no</td>\n",
       "    </tr>\n",
       "    <tr>\n",
       "      <th>1</th>\n",
       "      <td>44</td>\n",
       "      <td>technician</td>\n",
       "      <td>single</td>\n",
       "      <td>secondary</td>\n",
       "      <td>no</td>\n",
       "      <td>29</td>\n",
       "      <td>yes</td>\n",
       "      <td>no</td>\n",
       "      <td>unknown</td>\n",
       "      <td>may</td>\n",
       "      <td>151</td>\n",
       "      <td>no</td>\n",
       "    </tr>\n",
       "    <tr>\n",
       "      <th>2</th>\n",
       "      <td>33</td>\n",
       "      <td>entrepreneur</td>\n",
       "      <td>married</td>\n",
       "      <td>secondary</td>\n",
       "      <td>no</td>\n",
       "      <td>2</td>\n",
       "      <td>yes</td>\n",
       "      <td>yes</td>\n",
       "      <td>unknown</td>\n",
       "      <td>may</td>\n",
       "      <td>76</td>\n",
       "      <td>no</td>\n",
       "    </tr>\n",
       "    <tr>\n",
       "      <th>3</th>\n",
       "      <td>47</td>\n",
       "      <td>blue-collar</td>\n",
       "      <td>married</td>\n",
       "      <td>unknown</td>\n",
       "      <td>no</td>\n",
       "      <td>1506</td>\n",
       "      <td>yes</td>\n",
       "      <td>no</td>\n",
       "      <td>unknown</td>\n",
       "      <td>may</td>\n",
       "      <td>92</td>\n",
       "      <td>no</td>\n",
       "    </tr>\n",
       "    <tr>\n",
       "      <th>4</th>\n",
       "      <td>33</td>\n",
       "      <td>unknown</td>\n",
       "      <td>single</td>\n",
       "      <td>unknown</td>\n",
       "      <td>no</td>\n",
       "      <td>1</td>\n",
       "      <td>no</td>\n",
       "      <td>no</td>\n",
       "      <td>unknown</td>\n",
       "      <td>may</td>\n",
       "      <td>198</td>\n",
       "      <td>no</td>\n",
       "    </tr>\n",
       "  </tbody>\n",
       "</table>\n",
       "</div>"
      ],
      "text/plain": [
       "   age           job  marital  education credit_default  avg_yearly_balance  \\\n",
       "0   58    management  married   tertiary             no                2143   \n",
       "1   44    technician   single  secondary             no                  29   \n",
       "2   33  entrepreneur  married  secondary             no                   2   \n",
       "3   47   blue-collar  married    unknown             no                1506   \n",
       "4   33       unknown   single    unknown             no                   1   \n",
       "\n",
       "  housing_loan personal_loan  contact month  duration client_subscribed  \n",
       "0          yes            no  unknown   may       261                no  \n",
       "1          yes            no  unknown   may       151                no  \n",
       "2          yes           yes  unknown   may        76                no  \n",
       "3          yes            no  unknown   may        92                no  \n",
       "4           no            no  unknown   may       198                no  "
      ]
     },
     "execution_count": 10,
     "metadata": {},
     "output_type": "execute_result"
    }
   ],
   "source": [
    "marketing_ml = marketing_data.drop(columns = ['day', 'no_of_contacts'])\n",
    "marketing_ml.head()"
   ]
  },
  {
   "cell_type": "code",
   "execution_count": 11,
   "metadata": {},
   "outputs": [
    {
     "data": {
      "text/html": [
       "<div>\n",
       "<style scoped>\n",
       "    .dataframe tbody tr th:only-of-type {\n",
       "        vertical-align: middle;\n",
       "    }\n",
       "\n",
       "    .dataframe tbody tr th {\n",
       "        vertical-align: top;\n",
       "    }\n",
       "\n",
       "    .dataframe thead th {\n",
       "        text-align: right;\n",
       "    }\n",
       "</style>\n",
       "<table border=\"1\" class=\"dataframe\">\n",
       "  <thead>\n",
       "    <tr style=\"text-align: right;\">\n",
       "      <th></th>\n",
       "      <th>age</th>\n",
       "      <th>job</th>\n",
       "      <th>marital</th>\n",
       "      <th>education</th>\n",
       "      <th>credit_default</th>\n",
       "      <th>avg_yearly_balance</th>\n",
       "      <th>housing_loan</th>\n",
       "      <th>personal_loan</th>\n",
       "      <th>contact</th>\n",
       "      <th>month</th>\n",
       "      <th>duration</th>\n",
       "      <th>client_subscribed</th>\n",
       "    </tr>\n",
       "  </thead>\n",
       "  <tbody>\n",
       "    <tr>\n",
       "      <th>0</th>\n",
       "      <td>58</td>\n",
       "      <td>management</td>\n",
       "      <td>married</td>\n",
       "      <td>tertiary</td>\n",
       "      <td>0</td>\n",
       "      <td>2143</td>\n",
       "      <td>1</td>\n",
       "      <td>0</td>\n",
       "      <td>unknown</td>\n",
       "      <td>may</td>\n",
       "      <td>261</td>\n",
       "      <td>0</td>\n",
       "    </tr>\n",
       "    <tr>\n",
       "      <th>1</th>\n",
       "      <td>44</td>\n",
       "      <td>technician</td>\n",
       "      <td>single</td>\n",
       "      <td>secondary</td>\n",
       "      <td>0</td>\n",
       "      <td>29</td>\n",
       "      <td>1</td>\n",
       "      <td>0</td>\n",
       "      <td>unknown</td>\n",
       "      <td>may</td>\n",
       "      <td>151</td>\n",
       "      <td>0</td>\n",
       "    </tr>\n",
       "    <tr>\n",
       "      <th>2</th>\n",
       "      <td>33</td>\n",
       "      <td>entrepreneur</td>\n",
       "      <td>married</td>\n",
       "      <td>secondary</td>\n",
       "      <td>0</td>\n",
       "      <td>2</td>\n",
       "      <td>1</td>\n",
       "      <td>1</td>\n",
       "      <td>unknown</td>\n",
       "      <td>may</td>\n",
       "      <td>76</td>\n",
       "      <td>0</td>\n",
       "    </tr>\n",
       "    <tr>\n",
       "      <th>3</th>\n",
       "      <td>47</td>\n",
       "      <td>blue-collar</td>\n",
       "      <td>married</td>\n",
       "      <td>unknown</td>\n",
       "      <td>0</td>\n",
       "      <td>1506</td>\n",
       "      <td>1</td>\n",
       "      <td>0</td>\n",
       "      <td>unknown</td>\n",
       "      <td>may</td>\n",
       "      <td>92</td>\n",
       "      <td>0</td>\n",
       "    </tr>\n",
       "    <tr>\n",
       "      <th>4</th>\n",
       "      <td>33</td>\n",
       "      <td>unknown</td>\n",
       "      <td>single</td>\n",
       "      <td>unknown</td>\n",
       "      <td>0</td>\n",
       "      <td>1</td>\n",
       "      <td>0</td>\n",
       "      <td>0</td>\n",
       "      <td>unknown</td>\n",
       "      <td>may</td>\n",
       "      <td>198</td>\n",
       "      <td>0</td>\n",
       "    </tr>\n",
       "  </tbody>\n",
       "</table>\n",
       "</div>"
      ],
      "text/plain": [
       "   age           job  marital  education  credit_default  avg_yearly_balance  \\\n",
       "0   58    management  married   tertiary               0                2143   \n",
       "1   44    technician   single  secondary               0                  29   \n",
       "2   33  entrepreneur  married  secondary               0                   2   \n",
       "3   47   blue-collar  married    unknown               0                1506   \n",
       "4   33       unknown   single    unknown               0                   1   \n",
       "\n",
       "   housing_loan  personal_loan  contact month  duration  client_subscribed  \n",
       "0             1              0  unknown   may       261                  0  \n",
       "1             1              0  unknown   may       151                  0  \n",
       "2             1              1  unknown   may        76                  0  \n",
       "3             1              0  unknown   may        92                  0  \n",
       "4             0              0  unknown   may       198                  0  "
      ]
     },
     "execution_count": 11,
     "metadata": {},
     "output_type": "execute_result"
    }
   ],
   "source": [
    "# change the yes or no columns to 1 and 0 respectively\n",
    "marketing_ml['credit_default'] = marketing_ml['credit_default'].apply(lambda x: 1 if x=='yes' else 0)\n",
    "marketing_ml['housing_loan'] = marketing_ml['housing_loan'].apply(lambda x: 1 if x=='yes' else 0)\n",
    "marketing_ml['personal_loan'] = marketing_ml['personal_loan'].apply(lambda x: 1 if x=='yes' else 0)\n",
    "marketing_ml['client_subscribed'] = marketing_ml['client_subscribed'].apply(lambda x: 1 if x=='yes' else 0)\n",
    "marketing_ml.head()"
   ]
  },
  {
   "cell_type": "code",
   "execution_count": 12,
   "metadata": {},
   "outputs": [
    {
     "name": "stdout",
     "output_type": "stream",
     "text": [
      "<class 'pandas.core.frame.DataFrame'>\n",
      "RangeIndex: 40000 entries, 0 to 39999\n",
      "Data columns (total 40 columns):\n",
      " #   Column               Non-Null Count  Dtype\n",
      "---  ------               --------------  -----\n",
      " 0   age                  40000 non-null  int64\n",
      " 1   credit_default       40000 non-null  int64\n",
      " 2   avg_yearly_balance   40000 non-null  int64\n",
      " 3   housing_loan         40000 non-null  int64\n",
      " 4   personal_loan        40000 non-null  int64\n",
      " 5   duration             40000 non-null  int64\n",
      " 6   client_subscribed    40000 non-null  int64\n",
      " 7   job_admin            40000 non-null  uint8\n",
      " 8   job_blue-collar      40000 non-null  uint8\n",
      " 9   job_entrepreneur     40000 non-null  uint8\n",
      " 10  job_housemaid        40000 non-null  uint8\n",
      " 11  job_management       40000 non-null  uint8\n",
      " 12  job_retired          40000 non-null  uint8\n",
      " 13  job_self-employed    40000 non-null  uint8\n",
      " 14  job_services         40000 non-null  uint8\n",
      " 15  job_student          40000 non-null  uint8\n",
      " 16  job_technician       40000 non-null  uint8\n",
      " 17  job_unemployed       40000 non-null  uint8\n",
      " 18  job_unknown          40000 non-null  uint8\n",
      " 19  marital_divorced     40000 non-null  uint8\n",
      " 20  marital_married      40000 non-null  uint8\n",
      " 21  marital_single       40000 non-null  uint8\n",
      " 22  education_primary    40000 non-null  uint8\n",
      " 23  education_secondary  40000 non-null  uint8\n",
      " 24  education_tertiary   40000 non-null  uint8\n",
      " 25  education_unknown    40000 non-null  uint8\n",
      " 26  contact_cellular     40000 non-null  uint8\n",
      " 27  contact_telephone    40000 non-null  uint8\n",
      " 28  contact_unknown      40000 non-null  uint8\n",
      " 29  month_apr            40000 non-null  uint8\n",
      " 30  month_aug            40000 non-null  uint8\n",
      " 31  month_dec            40000 non-null  uint8\n",
      " 32  month_feb            40000 non-null  uint8\n",
      " 33  month_jan            40000 non-null  uint8\n",
      " 34  month_jul            40000 non-null  uint8\n",
      " 35  month_jun            40000 non-null  uint8\n",
      " 36  month_mar            40000 non-null  uint8\n",
      " 37  month_may            40000 non-null  uint8\n",
      " 38  month_nov            40000 non-null  uint8\n",
      " 39  month_oct            40000 non-null  uint8\n",
      "dtypes: int64(7), uint8(33)\n",
      "memory usage: 3.4 MB\n"
     ]
    }
   ],
   "source": [
    "# Lets convert the categorical variable to numeric before machine learning\n",
    "subscription_ml = pd.get_dummies(data=marketing_ml, columns=['job', 'marital', 'education', 'contact', 'month'])\n",
    "subscription_ml.info()                                 "
   ]
  },
  {
   "cell_type": "code",
   "execution_count": 3,
   "metadata": {},
   "outputs": [
    {
     "name": "stdout",
     "output_type": "stream",
     "text": [
      "/Users/pravatiswain/Documents/Apziva Projects/term_deposit_marketing\r\n"
     ]
    }
   ],
   "source": [
    "!pwd"
   ]
  },
  {
   "cell_type": "code",
   "execution_count": null,
   "metadata": {},
   "outputs": [],
   "source": [
    "!conda install package_name"
   ]
  },
  {
   "cell_type": "code",
   "execution_count": null,
   "metadata": {},
   "outputs": [],
   "source": []
  },
  {
   "cell_type": "markdown",
   "metadata": {},
   "source": [
    "### Modeling with LazyPredict"
   ]
  },
  {
   "cell_type": "code",
   "execution_count": 13,
   "metadata": {},
   "outputs": [],
   "source": [
    "#set predictor variables and target variables\n",
    "X = subscription_ml.drop(columns= ['client_subscribed'])\n",
    "y = subscription_ml.client_subscribed"
   ]
  },
  {
   "cell_type": "code",
   "execution_count": 14,
   "metadata": {
    "scrolled": true
   },
   "outputs": [
    {
     "name": "stdout",
     "output_type": "stream",
     "text": [
      "X Training set sample size: 30000\n",
      "X Testing set sample size: 10000\n",
      "y Training set sample size: 30000\n",
      "y Testing set sample size: 10000\n"
     ]
    }
   ],
   "source": [
    "# split the data into training and test sets\n",
    "X_train, X_test, y_train, y_test = train_test_split(X, y, random_state=42, test_size=0.25)\n",
    "\n",
    "# Show the results of the split\n",
    "print(\"X Training set sample size:\", (X_train.shape[0]))\n",
    "print(\"X Testing set sample size:\", (X_test.shape[0]))\n",
    "print(\"y Training set sample size:\", (y_train.shape[0]))\n",
    "print(\"y Testing set sample size:\", (y_test.shape[0]))"
   ]
  },
  {
   "cell_type": "code",
   "execution_count": 51,
   "metadata": {
    "scrolled": false
   },
   "outputs": [
    {
     "name": "stderr",
     "output_type": "stream",
     "text": [
      "100%|██████████| 29/29 [17:32<00:00, 36.30s/it]   "
     ]
    },
    {
     "name": "stdout",
     "output_type": "stream",
     "text": [
      "                               Accuracy  Balanced Accuracy  ROC AUC  F1 Score  \\\n",
      "Model                                                                           \n",
      "NearestCentroid                    0.88               0.83     0.83      0.90   \n",
      "DecisionTreeClassifier             0.92               0.70     0.70      0.92   \n",
      "LinearDiscriminantAnalysis         0.93               0.70     0.70      0.93   \n",
      "PassiveAggressiveClassifier        0.91               0.69     0.69      0.91   \n",
      "XGBClassifier                      0.93               0.68     0.68      0.93   \n",
      "LGBMClassifier                     0.93               0.68     0.68      0.93   \n",
      "BaggingClassifier                  0.93               0.66     0.66      0.92   \n",
      "RandomForestClassifier             0.93               0.65     0.65      0.93   \n",
      "LabelPropagation                   0.92               0.65     0.65      0.91   \n",
      "LabelSpreading                     0.92               0.65     0.65      0.91   \n",
      "ExtraTreeClassifier                0.91               0.65     0.65      0.91   \n",
      "AdaBoostClassifier                 0.93               0.64     0.64      0.92   \n",
      "ExtraTreesClassifier               0.93               0.64     0.64      0.92   \n",
      "CalibratedClassifierCV             0.94               0.63     0.63      0.92   \n",
      "LogisticRegression                 0.93               0.62     0.62      0.92   \n",
      "SGDClassifier                      0.93               0.62     0.62      0.92   \n",
      "Perceptron                         0.92               0.60     0.60      0.91   \n",
      "KNeighborsClassifier               0.93               0.60     0.60      0.92   \n",
      "SVC                                0.93               0.60     0.60      0.92   \n",
      "LinearSVC                          0.93               0.60     0.60      0.92   \n",
      "GaussianNB                         0.24               0.58     0.58      0.31   \n",
      "RidgeClassifier                    0.93               0.57     0.57      0.91   \n",
      "RidgeClassifierCV                  0.93               0.57     0.57      0.91   \n",
      "BernoulliNB                        0.92               0.56     0.56      0.90   \n",
      "QuadraticDiscriminantAnalysis      0.16               0.52     0.52      0.17   \n",
      "DummyClassifier                    0.87               0.50     0.50      0.87   \n",
      "\n",
      "                               Time Taken  \n",
      "Model                                      \n",
      "NearestCentroid                      0.10  \n",
      "DecisionTreeClassifier               0.22  \n",
      "LinearDiscriminantAnalysis           0.36  \n",
      "PassiveAggressiveClassifier          0.16  \n",
      "XGBClassifier                        2.50  \n",
      "LGBMClassifier                       0.37  \n",
      "BaggingClassifier                    1.19  \n",
      "RandomForestClassifier               2.96  \n",
      "LabelPropagation                   477.85  \n",
      "LabelSpreading                     505.79  \n",
      "ExtraTreeClassifier                  0.11  \n",
      "AdaBoostClassifier                   1.12  \n",
      "ExtraTreesClassifier                 2.28  \n",
      "CalibratedClassifierCV              17.46  \n",
      "LogisticRegression                   0.18  \n",
      "SGDClassifier                        0.30  \n",
      "Perceptron                           0.11  \n",
      "KNeighborsClassifier                18.81  \n",
      "SVC                                 13.98  \n",
      "LinearSVC                            5.87  \n",
      "GaussianNB                           0.11  \n",
      "RidgeClassifier                      0.14  \n",
      "RidgeClassifierCV                    0.20  \n",
      "BernoulliNB                          0.11  \n",
      "QuadraticDiscriminantAnalysis        0.16  \n",
      "DummyClassifier                      0.09  \n"
     ]
    },
    {
     "name": "stderr",
     "output_type": "stream",
     "text": [
      "\n"
     ]
    }
   ],
   "source": [
    "# Using LazyPredict to built different model before hyperparameter tuning\n",
    "clf = LazyClassifier(verbose=0,ignore_warnings=True, custom_metric=None)\n",
    "models,predictions = clf.fit(X_train, X_test, y_train, y_test)\n",
    "print(models)"
   ]
  },
  {
   "cell_type": "markdown",
   "metadata": {},
   "source": [
    "Based on the output of LazyPredict, I selected top 5 robust classifiers: XGB (powerful algorithm when speed and accuaracy are concerned), LGBM, KNN, Logistic Regression and Random Forest for this classification problem.\n",
    "\n",
    "- eXtreme Gradient Boosting (XGBoost) is powerful algorithm when speed and accuaracy are concerned. It is powerful enough to deal with all short of irregularity in the dataset."
   ]
  },
  {
   "cell_type": "markdown",
   "metadata": {},
   "source": [
    "### Modeling with Random Forest, XGboost, LGBM, Logistic Regression and KNN with ScikitLearn"
   ]
  },
  {
   "cell_type": "code",
   "execution_count": 18,
   "metadata": {},
   "outputs": [],
   "source": [
    "# defined a function to evaluate the model\n",
    "def evaluate(model, X_train, X_test, y_train, y_test):\n",
    "    y_test_pred = model.predict(X_test)\n",
    "    y_train_pred = model.predict(X_train)\n",
    "    y_test_pred_proba = model.predict_proba(X_test)[:,1]\n",
    "    \n",
    "    f1 = f1_score(y_test, y_test_pred)\n",
    "    cm = confusion_matrix(y_test, y_test_pred)\n",
    "    roc= roc_auc_score(y_test, y_test_pred_proba)\n",
    "\n",
    "    print(\"TRAINIG RESULTS: \\n===============================\")\n",
    "    print(f\"ACCURACY SCORE:{accuracy_score(y_train, y_train_pred):.4f}\")\n",
    "    print(f\"CONFUSION MATRIX:\\n{confusion_matrix(y_train, y_train_pred)}\")\n",
    "    clf_report = pd.DataFrame(classification_report(y_train, y_train_pred, output_dict=True))\n",
    "    print(f\"CLASSIFICATION REPORT:\\n{clf_report}\")\n",
    "    print()\n",
    "    print()\n",
    "\n",
    "    print(\"TESTING RESULTS: \\n===============================\")\n",
    "    print(f\"ACCURACY SCORE:{accuracy_score(y_test, y_test_pred):.4f}\")\n",
    "    print(f\"CONFUSION MATRIX:\\n{confusion_matrix(y_test, y_test_pred)}\")\n",
    "    \n",
    "    print('F1-score: ' , round(f1,4))\n",
    "    print(\"Best Score: \" , round(model.best_score_,4))\n",
    "    print(\"Test ROC AUC:\", round(roc,4), '\\n')\n",
    "    print(\"Best Parameters: \" , model.best_params_)\n",
    "    clf_report = pd.DataFrame(classification_report(y_test, y_test_pred, output_dict=True))\n",
    "    print(f\"CLASSIFICATION REPORT:\\n{clf_report}\")\n",
    "    \n",
    "    \n",
    "    fpr, tpr, thresholds = roc_curve(y_test, y_test_pred_proba)\n",
    "    plt.plot([0, 1], [0, 1], 'k--')\n",
    "    plt.plot(fpr,tpr,label= 'f\"{model}\" ')\n",
    "    plt.xlabel('False Positive Rate')\n",
    "    plt.ylabel('True Positive Rate')\n",
    "    plt.title('ROC Curve')\n",
    "    plt.show()"
   ]
  },
  {
   "cell_type": "markdown",
   "metadata": {},
   "source": [
    "### Logistic Regression Classifier"
   ]
  },
  {
   "cell_type": "code",
   "execution_count": 66,
   "metadata": {
    "scrolled": true
   },
   "outputs": [
    {
     "name": "stdout",
     "output_type": "stream",
     "text": [
      "TRAINIG RESULTS: \n",
      "===============================\n",
      "ACCURACY SCORE:0.6369\n",
      "CONFUSION MATRIX:\n",
      "[[16955 10866]\n",
      " [   26  2153]]\n",
      "CLASSIFICATION REPORT:\n",
      "                 0       1  accuracy  macro avg  weighted avg\n",
      "precision     1.00    0.17      0.64       0.58          0.94\n",
      "recall        0.61    0.99      0.64       0.80          0.64\n",
      "f1-score      0.76    0.28      0.64       0.52          0.72\n",
      "support   27821.00 2179.00      0.64   30000.00      30000.00\n",
      "\n",
      "\n",
      "TESTING RESULTS: \n",
      "===============================\n",
      "ACCURACY SCORE:0.6308\n",
      "CONFUSION MATRIX:\n",
      "[[5602 3681]\n",
      " [  11  706]]\n",
      "F1-score:  0.2766\n",
      "Best Score:  0.9862\n",
      "Test ROC AUC: 0.9262 \n",
      "\n",
      "Best Parameters:  {'penalty': 'l2', 'C': 83.0}\n",
      "CLASSIFICATION REPORT:\n",
      "                0      1  accuracy  macro avg  weighted avg\n",
      "precision    1.00   0.16      0.63       0.58          0.94\n",
      "recall       0.60   0.98      0.63       0.79          0.63\n",
      "f1-score     0.75   0.28      0.63       0.51          0.72\n",
      "support   9283.00 717.00      0.63   10000.00      10000.00\n"
     ]
    },
    {
     "data": {
      "image/png": "[encoded data removed]",
      "text/plain": [
       "<Figure size 432x288 with 1 Axes>"
      ]
     },
     "metadata": {
      "needs_background": "light"
     },
     "output_type": "display_data"
    },
    {
     "data": {
      "text/plain": [
       "<sklearn.metrics._plot.confusion_matrix.ConfusionMatrixDisplay at 0x7fbc4e1e7fd0>"
      ]
     },
     "execution_count": 66,
     "metadata": {},
     "output_type": "execute_result"
    },
    {
     "data": {
      "image/png": "[encoded data removed]",
      "text/plain": [
       "<Figure size 432x288 with 2 Axes>"
      ]
     },
     "metadata": {
      "needs_background": "light"
     },
     "output_type": "display_data"
    }
   ],
   "source": [
    "log_reg_params= {'penalty': ['l1','l2','elasticnet'], 'C':np.arange(0.5, 100.0, 0.5) }\n",
    "\n",
    "log_reg = LogisticRegression(class_weight={0:0.01,1:0.99})\n",
    "log_rcv = RandomizedSearchCV(log_reg,log_reg_params,cv=5, n_jobs=-1, scoring = 'recall')\n",
    "log_rcv.fit(X_train, y_train)\n",
    "evaluate(log_rcv, X_train, X_test, y_train, y_test)\n",
    "plot_confusion_matrix(log_rcv, X_test, y_test)"
   ]
  },
  {
   "cell_type": "markdown",
   "metadata": {},
   "source": [
    "### KNN Classifier"
   ]
  },
  {
   "cell_type": "code",
   "execution_count": null,
   "metadata": {},
   "outputs": [],
   "source": [
    "knn=KNeighborsClassifier( n_neighbors=1)\n",
    "knn_params = {'n_neighbors':[5,7,9],\n",
    "          'leaf_size':[1,3,5],\n",
    "          'weights':['uniform', 'distance'],\n",
    "          'algorithm':['auto', 'ball_tree','kd_tree','brute'],\n",
    "          'n_jobs':[-1]}\n",
    "knn_rcv = RandomizedSearchCV(knn,knn_params,cv=5, n_jobs=-1, scoring = 'roc_auc',random_state = 42)\n",
    "knn_rcv.fit(X_train, y_train)\n",
    "evaluate(knn_rcv, X_train, X_test, y_train, y_test)\n",
    "# plot confusion matrix\n",
    "plot_confusion_matrix(knn_rcv, X_test, y_test)"
   ]
  },
  {
   "cell_type": "markdown",
   "metadata": {},
   "source": [
    "### Random Forest Classifier"
   ]
  },
  {
   "cell_type": "code",
   "execution_count": 53,
   "metadata": {},
   "outputs": [
    {
     "name": "stdout",
     "output_type": "stream",
     "text": [
      "TRAINIG RESULTS: \n",
      "===============================\n",
      "ACCURACY SCORE:0.9697\n",
      "CONFUSION MATRIX:\n",
      "[[27811    10]\n",
      " [  900  1279]]\n",
      "CLASSIFICATION REPORT:\n",
      "                 0       1  accuracy  macro avg  weighted avg\n",
      "precision     0.97    0.99      0.97       0.98          0.97\n",
      "recall        1.00    0.59      0.97       0.79          0.97\n",
      "f1-score      0.98    0.74      0.97       0.86          0.97\n",
      "support   27821.00 2179.00      0.97   30000.00      30000.00\n",
      "\n",
      "\n",
      "TESTING RESULTS: \n",
      "===============================\n",
      "ACCURACY SCORE:0.9333\n",
      "CONFUSION MATRIX:\n",
      "[[9179  104]\n",
      " [ 563  154]]\n",
      "F1-score:  0.3159\n",
      "Best Score:  0.9408\n",
      "Test ROC AUC: 0.9384 \n",
      "\n",
      "Best Parameters:  {'n_estimators': 800, 'min_samples_split': 2, 'max_features': 'sqrt', 'max_depth': 15, 'criterion': 'entropy'}\n",
      "CLASSIFICATION REPORT:\n",
      "                0      1  accuracy  macro avg  weighted avg\n",
      "precision    0.94   0.60      0.93       0.77          0.92\n",
      "recall       0.99   0.21      0.93       0.60          0.93\n",
      "f1-score     0.96   0.32      0.93       0.64          0.92\n",
      "support   9283.00 717.00      0.93   10000.00      10000.00\n"
     ]
    },
    {
     "data": {
      "image/png": "[encoded data removed]",
      "text/plain": [
       "<Figure size 432x288 with 1 Axes>"
      ]
     },
     "metadata": {
      "needs_background": "light"
     },
     "output_type": "display_data"
    }
   ],
   "source": [
    "rf_params= { 'n_estimators': [500,600,800,1000,1500, 1800, 2000], \n",
    "             'max_features': ['auto', 'sqrt', 'log2'], \n",
    "             'max_depth' :  np.arange(4,20), \n",
    "             'criterion' :['gini', 'entropy'],\n",
    "            'min_samples_split' : [2, 3, 4] }\n",
    "rf = RandomForestClassifier()\n",
    "rf_rcv = RandomizedSearchCV(rf,rf_params,cv=5, n_jobs=-1, scoring = 'roc_auc',random_state = 42)\n",
    "rf_rcv.fit(X_train, y_train)\n",
    "evaluate(rf_rcv, X_train, X_test, y_train, y_test)\n",
    "# plot confusion matrix\n",
    "plot_confusion_matrix(rf_rcv, X_test, y_test)"
   ]
  },
  {
   "cell_type": "markdown",
   "metadata": {},
   "source": [
    "### XG Boost classifier"
   ]
  },
  {
   "cell_type": "code",
   "execution_count": 56,
   "metadata": {},
   "outputs": [
    {
     "name": "stdout",
     "output_type": "stream",
     "text": [
      "[10:29:42] WARNING: /Users/travis/build/dmlc/xgboost/src/learner.cc:480: \n",
      "Parameters: { silent } might not be used.\n",
      "\n",
      "  This may not be accurate due to some parameters are only used in language bindings but\n",
      "  passed down to XGBoost core.  Or some parameters are not used but slip through this\n",
      "  verification. Please open an issue if you find above cases.\n",
      "\n",
      "\n",
      "TRAINIG RESULTS: \n",
      "===============================\n",
      "ACCURACY SCORE:0.9598\n",
      "CONFUSION MATRIX:\n",
      "[[27577   244]\n",
      " [  961  1218]]\n",
      "CLASSIFICATION REPORT:\n",
      "                 0       1  accuracy  macro avg  weighted avg\n",
      "precision     0.97    0.83      0.96       0.90          0.96\n",
      "recall        0.99    0.56      0.96       0.78          0.96\n",
      "f1-score      0.98    0.67      0.96       0.82          0.96\n",
      "support   27821.00 2179.00      0.96   30000.00      30000.00\n",
      "\n",
      "\n",
      "TESTING RESULTS: \n",
      "===============================\n",
      "ACCURACY SCORE:0.9339\n",
      "CONFUSION MATRIX:\n",
      "[[9077  206]\n",
      " [ 455  262]]\n",
      "F1-score:  0.4422\n",
      "Best Score:  0.9421\n",
      "Test ROC AUC: 0.9406 \n",
      "\n",
      "Best Parameters:  {'subsample': 0.9, 'silent': 1, 'objective': 'binary:logistic', 'nthread': 10, 'n_estimators': 1000, 'max_depth': 4, 'learning_rate': 0.05, 'colsample_bytree': 0.6}\n",
      "CLASSIFICATION REPORT:\n",
      "                0      1  accuracy  macro avg  weighted avg\n",
      "precision    0.95   0.56      0.93       0.76          0.92\n",
      "recall       0.98   0.37      0.93       0.67          0.93\n",
      "f1-score     0.96   0.44      0.93       0.70          0.93\n",
      "support   9283.00 717.00      0.93   10000.00      10000.00\n"
     ]
    },
    {
     "data": {
      "image/png": "[encoded data removed]",
      "text/plain": [
       "<Figure size 432x288 with 1 Axes>"
      ]
     },
     "metadata": {
      "needs_background": "light"
     },
     "output_type": "display_data"
    }
   ],
   "source": [
    "xgb_params= {'nthread':[10], #when use hyperthread, xgboost may become slower\n",
    "              'objective':['binary:logistic'],\n",
    "              'learning_rate': [0.05],\n",
    "              'max_depth': [4],\n",
    "              'silent': [1],\n",
    "              'subsample': [.6,.8,.9],\n",
    "              'colsample_bytree':[.6,.75],\n",
    "              'n_estimators': [1000]}\n",
    "             \n",
    "xgb = XGBClassifier()\n",
    "xgb_rcv = RandomizedSearchCV(xgb,xgb_params,cv=5, n_jobs=-1, scoring = 'roc_auc',random_state = 42)\n",
    "xgb_rcv.fit(X_train, y_train)\n",
    "evaluate(xgb_rcv, X_train, X_test, y_train, y_test)\n",
    "# plot confusion matrix\n",
    "plot_confusion_matrix(xgb_rcv, X_test, y_test)"
   ]
  },
  {
   "cell_type": "markdown",
   "metadata": {},
   "source": [
    "### LGBM Classifier"
   ]
  },
  {
   "cell_type": "code",
   "execution_count": 45,
   "metadata": {
    "scrolled": true
   },
   "outputs": [
    {
     "name": "stdout",
     "output_type": "stream",
     "text": [
      "TRAINIG RESULTS: \n",
      "===============================\n",
      "ACCURACY SCORE:0.9821\n",
      "CONFUSION MATRIX:\n",
      "[[27717   104]\n",
      " [  432  1747]]\n",
      "CLASSIFICATION REPORT:\n",
      "                 0       1  accuracy  macro avg  weighted avg\n",
      "precision     0.98    0.94      0.98       0.96          0.98\n",
      "recall        1.00    0.80      0.98       0.90          0.98\n",
      "f1-score      0.99    0.87      0.98       0.93          0.98\n",
      "support   27821.00 2179.00      0.98   30000.00      30000.00\n",
      "\n",
      "\n",
      "TESTING RESULTS: \n",
      "===============================\n",
      "ACCURACY SCORE:0.9331\n",
      "CONFUSION MATRIX:\n",
      "[[9062  221]\n",
      " [ 448  269]]\n",
      "F1-score:  0.4457\n",
      "Best Score:  0.9386\n",
      "Test ROC AUC: 0.9357 \n",
      "\n",
      "Best Parameters:  {'num_leaves': 100, 'min_child_weight': 0.39}\n",
      "CLASSIFICATION REPORT:\n",
      "                0      1  accuracy  macro avg  weighted avg\n",
      "precision    0.95   0.55      0.93       0.75          0.92\n",
      "recall       0.98   0.38      0.93       0.68          0.93\n",
      "f1-score     0.96   0.45      0.93       0.71          0.93\n",
      "support   9283.00 717.00      0.93   10000.00      10000.00\n"
     ]
    },
    {
     "data": {
      "image/png": "[encoded data removed]",
      "text/plain": [
       "<Figure size 432x288 with 1 Axes>"
      ]
     },
     "metadata": {
      "needs_background": "light"
     },
     "output_type": "display_data"
    }
   ],
   "source": [
    "lgbm_params = {'num_leaves': np.arange(100,500,100),\n",
    "               'min_child_weight': np.arange(0.01,1,0.01)}        \n",
    "lgbm = LGBMClassifier()\n",
    "lgbm_rcv = RandomizedSearchCV(lgbm,lgbm_params, cv=5, n_jobs=-1, scoring = 'roc_auc',random_state = 42)\n",
    "lgbm_rcv.fit(X_train, y_train)\n",
    "evaluate(lgbm_rcv, X_train, X_test, y_train, y_test)\n",
    "# plot confusion matrix\n",
    "plot_confusion_matrix(lgbm_rcv, X_test, y_test)"
   ]
  },
  {
   "cell_type": "markdown",
   "metadata": {},
   "source": [
    "From the model performance we find all of the three models have high ROC_AUC score of about .94. Besed on the F1 score LGBM classifier shows best performance."
   ]
  },
  {
   "cell_type": "markdown",
   "metadata": {},
   "source": [
    "### Recursive Feature Elimination\n",
    "Based on the RFE ranking of the features I will remove the lowest ranked features from the dataset and do the modeling again to further improve the performance."
   ]
  },
  {
   "cell_type": "code",
   "execution_count": 46,
   "metadata": {},
   "outputs": [
    {
     "data": {
      "text/html": [
       "<div>\n",
       "<style scoped>\n",
       "    .dataframe tbody tr th:only-of-type {\n",
       "        vertical-align: middle;\n",
       "    }\n",
       "\n",
       "    .dataframe tbody tr th {\n",
       "        vertical-align: top;\n",
       "    }\n",
       "\n",
       "    .dataframe thead th {\n",
       "        text-align: right;\n",
       "    }\n",
       "</style>\n",
       "<table border=\"1\" class=\"dataframe\">\n",
       "  <thead>\n",
       "    <tr style=\"text-align: right;\">\n",
       "      <th></th>\n",
       "      <th>Feature</th>\n",
       "      <th>Ranking</th>\n",
       "    </tr>\n",
       "  </thead>\n",
       "  <tbody>\n",
       "    <tr>\n",
       "      <th>0</th>\n",
       "      <td>age</td>\n",
       "      <td>1</td>\n",
       "    </tr>\n",
       "    <tr>\n",
       "      <th>36</th>\n",
       "      <td>month_may</td>\n",
       "      <td>1</td>\n",
       "    </tr>\n",
       "    <tr>\n",
       "      <th>33</th>\n",
       "      <td>month_jul</td>\n",
       "      <td>1</td>\n",
       "    </tr>\n",
       "    <tr>\n",
       "      <th>27</th>\n",
       "      <td>contact_unknown</td>\n",
       "      <td>1</td>\n",
       "    </tr>\n",
       "    <tr>\n",
       "      <th>23</th>\n",
       "      <td>education_tertiary</td>\n",
       "      <td>1</td>\n",
       "    </tr>\n",
       "    <tr>\n",
       "      <th>37</th>\n",
       "      <td>month_nov</td>\n",
       "      <td>1</td>\n",
       "    </tr>\n",
       "    <tr>\n",
       "      <th>19</th>\n",
       "      <td>marital_married</td>\n",
       "      <td>1</td>\n",
       "    </tr>\n",
       "    <tr>\n",
       "      <th>2</th>\n",
       "      <td>avg_yearly_balance</td>\n",
       "      <td>1</td>\n",
       "    </tr>\n",
       "    <tr>\n",
       "      <th>3</th>\n",
       "      <td>housing_loan</td>\n",
       "      <td>1</td>\n",
       "    </tr>\n",
       "    <tr>\n",
       "      <th>5</th>\n",
       "      <td>duration</td>\n",
       "      <td>1</td>\n",
       "    </tr>\n",
       "    <tr>\n",
       "      <th>32</th>\n",
       "      <td>month_jan</td>\n",
       "      <td>2</td>\n",
       "    </tr>\n",
       "    <tr>\n",
       "      <th>22</th>\n",
       "      <td>education_secondary</td>\n",
       "      <td>3</td>\n",
       "    </tr>\n",
       "    <tr>\n",
       "      <th>25</th>\n",
       "      <td>contact_cellular</td>\n",
       "      <td>4</td>\n",
       "    </tr>\n",
       "    <tr>\n",
       "      <th>29</th>\n",
       "      <td>month_aug</td>\n",
       "      <td>5</td>\n",
       "    </tr>\n",
       "    <tr>\n",
       "      <th>28</th>\n",
       "      <td>month_apr</td>\n",
       "      <td>6</td>\n",
       "    </tr>\n",
       "    <tr>\n",
       "      <th>34</th>\n",
       "      <td>month_jun</td>\n",
       "      <td>7</td>\n",
       "    </tr>\n",
       "    <tr>\n",
       "      <th>7</th>\n",
       "      <td>job_blue-collar</td>\n",
       "      <td>8</td>\n",
       "    </tr>\n",
       "    <tr>\n",
       "      <th>6</th>\n",
       "      <td>job_admin</td>\n",
       "      <td>9</td>\n",
       "    </tr>\n",
       "    <tr>\n",
       "      <th>10</th>\n",
       "      <td>job_management</td>\n",
       "      <td>10</td>\n",
       "    </tr>\n",
       "    <tr>\n",
       "      <th>38</th>\n",
       "      <td>month_oct</td>\n",
       "      <td>11</td>\n",
       "    </tr>\n",
       "    <tr>\n",
       "      <th>20</th>\n",
       "      <td>marital_single</td>\n",
       "      <td>12</td>\n",
       "    </tr>\n",
       "    <tr>\n",
       "      <th>15</th>\n",
       "      <td>job_technician</td>\n",
       "      <td>13</td>\n",
       "    </tr>\n",
       "    <tr>\n",
       "      <th>4</th>\n",
       "      <td>personal_loan</td>\n",
       "      <td>14</td>\n",
       "    </tr>\n",
       "    <tr>\n",
       "      <th>21</th>\n",
       "      <td>education_primary</td>\n",
       "      <td>15</td>\n",
       "    </tr>\n",
       "    <tr>\n",
       "      <th>13</th>\n",
       "      <td>job_services</td>\n",
       "      <td>16</td>\n",
       "    </tr>\n",
       "    <tr>\n",
       "      <th>24</th>\n",
       "      <td>education_unknown</td>\n",
       "      <td>17</td>\n",
       "    </tr>\n",
       "    <tr>\n",
       "      <th>35</th>\n",
       "      <td>month_mar</td>\n",
       "      <td>18</td>\n",
       "    </tr>\n",
       "    <tr>\n",
       "      <th>31</th>\n",
       "      <td>month_feb</td>\n",
       "      <td>19</td>\n",
       "    </tr>\n",
       "    <tr>\n",
       "      <th>18</th>\n",
       "      <td>marital_divorced</td>\n",
       "      <td>20</td>\n",
       "    </tr>\n",
       "    <tr>\n",
       "      <th>9</th>\n",
       "      <td>job_housemaid</td>\n",
       "      <td>21</td>\n",
       "    </tr>\n",
       "    <tr>\n",
       "      <th>26</th>\n",
       "      <td>contact_telephone</td>\n",
       "      <td>22</td>\n",
       "    </tr>\n",
       "    <tr>\n",
       "      <th>1</th>\n",
       "      <td>credit_default</td>\n",
       "      <td>23</td>\n",
       "    </tr>\n",
       "    <tr>\n",
       "      <th>16</th>\n",
       "      <td>job_unemployed</td>\n",
       "      <td>24</td>\n",
       "    </tr>\n",
       "    <tr>\n",
       "      <th>8</th>\n",
       "      <td>job_entrepreneur</td>\n",
       "      <td>25</td>\n",
       "    </tr>\n",
       "    <tr>\n",
       "      <th>14</th>\n",
       "      <td>job_student</td>\n",
       "      <td>26</td>\n",
       "    </tr>\n",
       "    <tr>\n",
       "      <th>12</th>\n",
       "      <td>job_self-employed</td>\n",
       "      <td>27</td>\n",
       "    </tr>\n",
       "    <tr>\n",
       "      <th>17</th>\n",
       "      <td>job_unknown</td>\n",
       "      <td>28</td>\n",
       "    </tr>\n",
       "    <tr>\n",
       "      <th>11</th>\n",
       "      <td>job_retired</td>\n",
       "      <td>29</td>\n",
       "    </tr>\n",
       "    <tr>\n",
       "      <th>30</th>\n",
       "      <td>month_dec</td>\n",
       "      <td>30</td>\n",
       "    </tr>\n",
       "  </tbody>\n",
       "</table>\n",
       "</div>"
      ],
      "text/plain": [
       "                Feature  Ranking\n",
       "0                   age        1\n",
       "36            month_may        1\n",
       "33            month_jul        1\n",
       "27      contact_unknown        1\n",
       "23   education_tertiary        1\n",
       "37            month_nov        1\n",
       "19      marital_married        1\n",
       "2    avg_yearly_balance        1\n",
       "3          housing_loan        1\n",
       "5              duration        1\n",
       "32            month_jan        2\n",
       "22  education_secondary        3\n",
       "25     contact_cellular        4\n",
       "29            month_aug        5\n",
       "28            month_apr        6\n",
       "34            month_jun        7\n",
       "7       job_blue-collar        8\n",
       "6             job_admin        9\n",
       "10       job_management       10\n",
       "38            month_oct       11\n",
       "20       marital_single       12\n",
       "15       job_technician       13\n",
       "4         personal_loan       14\n",
       "21    education_primary       15\n",
       "13         job_services       16\n",
       "24    education_unknown       17\n",
       "35            month_mar       18\n",
       "31            month_feb       19\n",
       "18     marital_divorced       20\n",
       "9         job_housemaid       21\n",
       "26    contact_telephone       22\n",
       "1        credit_default       23\n",
       "16       job_unemployed       24\n",
       "8      job_entrepreneur       25\n",
       "14          job_student       26\n",
       "12    job_self-employed       27\n",
       "17          job_unknown       28\n",
       "11          job_retired       29\n",
       "30            month_dec       30"
      ]
     },
     "execution_count": 46,
     "metadata": {},
     "output_type": "execute_result"
    }
   ],
   "source": [
    "# feature extraction, lgbm\n",
    "\n",
    "rfe = RFE(lgbm, 10)\n",
    "fit = rfe.fit(X_train, y_train)\n",
    "\n",
    "#the best features according to RFE have a ranking of 1, so we will create a second model with those features.\n",
    "\n",
    "selected_features = pd.DataFrame({'Feature':list(X.columns),'Ranking':fit.ranking_})\n",
    "selected_features.sort_values(by='Ranking')"
   ]
  },
  {
   "cell_type": "code",
   "execution_count": 48,
   "metadata": {},
   "outputs": [],
   "source": [
    "# droped the features starting from rank 30 to rank 24 from train and test set to see how the model peforms \n",
    "X_train_rfe = X_train.drop(columns=['month_dec', 'job_retired', 'job_unknown', 'job_self-employed', 'job_student', 'job_entrepreneur', 'job_unemployed'])\n",
    "X_test_rfe = X_test.drop(columns=['month_dec', 'job_retired', 'job_unknown', 'job_self-employed', 'job_student', 'job_entrepreneur', 'job_unemployed'])"
   ]
  },
  {
   "cell_type": "markdown",
   "metadata": {},
   "source": [
    "## Addressing Imbalanced Dataset\n",
    "\n",
    "- __Synthetic Minority Oversampling Technique (SMOTE)__\n",
    "- __Random Oversample__\n",
    "- __Random Undersample__\n",
    "- __Combining Random Oversampling and Undersampling__\n"
   ]
  },
  {
   "cell_type": "code",
   "execution_count": 16,
   "metadata": {},
   "outputs": [
    {
     "name": "stdout",
     "output_type": "stream",
     "text": [
      "Counter({0: 37104, 1: 2896})\n"
     ]
    }
   ],
   "source": [
    "# summarize class distribution in the term subscription dataset\n",
    "counter = Counter(y)\n",
    "print(counter)"
   ]
  },
  {
   "cell_type": "markdown",
   "metadata": {},
   "source": [
    "In the dataset 37104 customers did not subscribed (majority class) and 2896 customers subscribed (minority class)"
   ]
  },
  {
   "cell_type": "markdown",
   "metadata": {},
   "source": [
    "### SMOTE for Random Forest Calssifier"
   ]
  },
  {
   "cell_type": "code",
   "execution_count": 36,
   "metadata": {},
   "outputs": [],
   "source": [
    "# Standardizing the splits to get consistent results (CV= 5/10 we get different results each time)\n",
    "kf = KFold(n_splits=5, random_state=42, shuffle=False)"
   ]
  },
  {
   "cell_type": "code",
   "execution_count": 25,
   "metadata": {},
   "outputs": [],
   "source": [
    "rf_params_smote = { 'rf__n_estimators': [500,600,800,1000,1500, 1800, 2000], \n",
    "             'rf__max_features': ['auto', 'sqrt', 'log2'], \n",
    "             'rf__max_depth' :  np.arange(4,20), \n",
    "             'rf__criterion' :['gini', 'entropy'],\n",
    "            'rf__min_samples_split' : [2, 3, 4] }\n",
    "\n",
    "\n",
    "# define pipeline\n",
    "pipeline = Pipeline([(\"smote\", SMOTE()), (\"rf\", RandomForestClassifier())])\n"
   ]
  },
  {
   "cell_type": "code",
   "execution_count": 26,
   "metadata": {},
   "outputs": [],
   "source": [
    "# smote to the training folds, and not to the validation fold\n",
    "rf_rcv_smote = RandomizedSearchCV(pipeline, rf_params, scoring='f1', n_jobs=-1, cv=kf).fit(X_train, y_train)\n",
    "\n"
   ]
  },
  {
   "cell_type": "code",
   "execution_count": 27,
   "metadata": {},
   "outputs": [
    {
     "name": "stdout",
     "output_type": "stream",
     "text": [
      "TRAINIG RESULTS: \n",
      "===============================\n",
      "ACCURACY SCORE:0.9507\n",
      "CONFUSION MATRIX:\n",
      "[[26941   880]\n",
      " [  599  1580]]\n",
      "CLASSIFICATION REPORT:\n",
      "                 0       1  accuracy  macro avg  weighted avg\n",
      "precision     0.98    0.64      0.95       0.81          0.95\n",
      "recall        0.97    0.73      0.95       0.85          0.95\n",
      "f1-score      0.97    0.68      0.95       0.83          0.95\n",
      "support   27821.00 2179.00      0.95   30000.00      30000.00\n",
      "\n",
      "\n",
      "TESTING RESULTS: \n",
      "===============================\n",
      "ACCURACY SCORE:0.9273\n",
      "CONFUSION MATRIX:\n",
      "[[8879  404]\n",
      " [ 323  394]]\n",
      "F1-score:  0.5201\n",
      "Best Score:  0.4978\n",
      "Test ROC AUC: 0.9237 \n",
      "\n",
      "Best Parameters:  {'rf__n_estimators': 1800, 'rf__min_samples_split': 2, 'rf__max_features': 'sqrt', 'rf__max_depth': 11, 'rf__criterion': 'gini'}\n",
      "CLASSIFICATION REPORT:\n",
      "                0      1  accuracy  macro avg  weighted avg\n",
      "precision    0.96   0.49      0.93       0.73          0.93\n",
      "recall       0.96   0.55      0.93       0.75          0.93\n",
      "f1-score     0.96   0.52      0.93       0.74          0.93\n",
      "support   9283.00 717.00      0.93   10000.00      10000.00\n"
     ]
    },
    {
     "data": {
      "image/png": "[encoded data removed]",
      "text/plain": [
       "<Figure size 432x288 with 1 Axes>"
      ]
     },
     "metadata": {
      "needs_background": "light"
     },
     "output_type": "display_data"
    }
   ],
   "source": [
    "# model evaluation \n",
    "evaluate(rf_rcv_smote, X_train, X_test, y_train, y_test)"
   ]
  },
  {
   "cell_type": "code",
   "execution_count": 34,
   "metadata": {},
   "outputs": [
    {
     "data": {
      "text/plain": [
       "<sklearn.metrics._plot.confusion_matrix.ConfusionMatrixDisplay at 0x7fbc49e4d150>"
      ]
     },
     "execution_count": 34,
     "metadata": {},
     "output_type": "execute_result"
    },
    {
     "data": {
      "image/png": "[encoded data removed]",
      "text/plain": [
       "<Figure size 432x288 with 2 Axes>"
      ]
     },
     "metadata": {
      "needs_background": "light"
     },
     "output_type": "display_data"
    }
   ],
   "source": [
    "from sklearn.metrics import plot_confusion_matrix\n",
    "plot_confusion_matrix(rf_rcv_smote, X_test, y_test)"
   ]
  },
  {
   "cell_type": "markdown",
   "metadata": {},
   "source": [
    "### SMOTE for Logistic Regression Calssifier"
   ]
  },
  {
   "cell_type": "code",
   "execution_count": 65,
   "metadata": {
    "scrolled": true
   },
   "outputs": [
    {
     "name": "stdout",
     "output_type": "stream",
     "text": [
      "TRAINIG RESULTS: \n",
      "===============================\n",
      "ACCURACY SCORE:0.5263\n",
      "CONFUSION MATRIX:\n",
      "[[13650 14171]\n",
      " [   40  2139]]\n",
      "CLASSIFICATION REPORT:\n",
      "                 0       1  accuracy  macro avg  weighted avg\n",
      "precision     1.00    0.13      0.53       0.56          0.93\n",
      "recall        0.49    0.98      0.53       0.74          0.53\n",
      "f1-score      0.66    0.23      0.53       0.44          0.63\n",
      "support   27821.00 2179.00      0.53   30000.00      30000.00\n",
      "\n",
      "\n",
      "TESTING RESULTS: \n",
      "===============================\n",
      "ACCURACY SCORE:0.5257\n",
      "CONFUSION MATRIX:\n",
      "[[4553 4730]\n",
      " [  13  704]]\n",
      "F1-score:  0.2289\n",
      "Best Score:  0.2678\n",
      "Test ROC AUC: 0.9046 \n",
      "\n",
      "Best Parameters:  {'log__penalty': 'l2', 'log__C': 83.0}\n",
      "CLASSIFICATION REPORT:\n",
      "                0      1  accuracy  macro avg  weighted avg\n",
      "precision    1.00   0.13      0.53       0.56          0.93\n",
      "recall       0.49   0.98      0.53       0.74          0.53\n",
      "f1-score     0.66   0.23      0.53       0.44          0.63\n",
      "support   9283.00 717.00      0.53   10000.00      10000.00\n"
     ]
    },
    {
     "data": {
      "image/png": "[encoded data removed]",
      "text/plain": [
       "<Figure size 432x288 with 1 Axes>"
      ]
     },
     "metadata": {
      "needs_background": "light"
     },
     "output_type": "display_data"
    },
    {
     "data": {
      "text/plain": [
       "<sklearn.metrics._plot.confusion_matrix.ConfusionMatrixDisplay at 0x7fbc4e200990>"
      ]
     },
     "execution_count": 65,
     "metadata": {},
     "output_type": "execute_result"
    },
    {
     "data": {
      "image/png": "[encoded data removed]",
      "text/plain": [
       "<Figure size 432x288 with 2 Axes>"
      ]
     },
     "metadata": {
      "needs_background": "light"
     },
     "output_type": "display_data"
    }
   ],
   "source": [
    "# Standardizing the splits to get consistent results (CV= 5/10 we get different results each time)\n",
    "kf = KFold(n_splits=5, random_state=42, shuffle=False)\n",
    "# define parameters\n",
    "log_params_smote= {'log__penalty': ['l1','l2','elasticnet'], 'log__C':np.arange(0.5, 100.0, 0.5) }\n",
    "\n",
    "log_reg_smote = LogisticRegression(class_weight={0:0.01,1:0.99})\n",
    "# define pipeline\n",
    "pipeline_log = Pipeline([(\"smote\", SMOTE()), (\"log\", log_reg)])\n",
    "# smote to the training folds, and not to the validation fold\n",
    "log_rcv_smote = RandomizedSearchCV(pipeline_log, log_params_smote, scoring='f1', n_jobs=-1, cv=kf).fit(X_train, y_train)\n",
    "\n",
    "# model evaluation \n",
    "evaluate(log_rcv_smote, X_train, X_test, y_train, y_test)0\n",
    "plot_confusion_matrix(log_rcv_smote, X_test, y_test)"
   ]
  },
  {
   "cell_type": "markdown",
   "metadata": {},
   "source": [
    "### SMOTE for LGBM Calssifier"
   ]
  },
  {
   "cell_type": "code",
   "execution_count": 75,
   "metadata": {},
   "outputs": [
    {
     "name": "stdout",
     "output_type": "stream",
     "text": [
      "TRAINIG RESULTS: \n",
      "===============================\n",
      "ACCURACY SCORE:0.9605\n",
      "CONFUSION MATRIX:\n",
      "[[26635  1186]\n",
      " [    0  2179]]\n",
      "CLASSIFICATION REPORT:\n",
      "                 0       1  accuracy  macro avg  weighted avg\n",
      "precision     1.00    0.65      0.96       0.82          0.97\n",
      "recall        0.96    1.00      0.96       0.98          0.96\n",
      "f1-score      0.98    0.79      0.96       0.88          0.96\n",
      "support   27821.00 2179.00      0.96   30000.00      30000.00\n",
      "\n",
      "\n",
      "TESTING RESULTS: \n",
      "===============================\n",
      "ACCURACY SCORE:0.9052\n",
      "CONFUSION MATRIX:\n",
      "[[8518  765]\n",
      " [ 183  534]]\n",
      "F1-score:  0.5298\n",
      "Best Score:  0.5261\n",
      "Test ROC AUC: 0.929 \n",
      "\n",
      "Best Parameters:  {'lgbm__num_leaves': 400, 'lgbm__min_child_weight': 0.06999999999999999}\n",
      "CLASSIFICATION REPORT:\n",
      "                0      1  accuracy  macro avg  weighted avg\n",
      "precision    0.98   0.41      0.91       0.70          0.94\n",
      "recall       0.92   0.74      0.91       0.83          0.91\n",
      "f1-score     0.95   0.53      0.91       0.74          0.92\n",
      "support   9283.00 717.00      0.91   10000.00      10000.00\n"
     ]
    },
    {
     "data": {
      "image/png": "[encoded data removed]",
      "text/plain": [
       "<Figure size 432x288 with 1 Axes>"
      ]
     },
     "metadata": {
      "needs_background": "light"
     },
     "output_type": "display_data"
    },
    {
     "data": {
      "text/plain": [
       "<sklearn.metrics._plot.confusion_matrix.ConfusionMatrixDisplay at 0x7fbc4ac56410>"
      ]
     },
     "execution_count": 75,
     "metadata": {},
     "output_type": "execute_result"
    },
    {
     "data": {
      "image/png": "[encoded data removed]",
      "text/plain": [
       "<Figure size 432x288 with 2 Axes>"
      ]
     },
     "metadata": {
      "needs_background": "light"
     },
     "output_type": "display_data"
    }
   ],
   "source": [
    "# Standardizing the splits to get consistent results (CV= 5/10 we get different results each time)\n",
    "kf = KFold(n_splits=5, random_state=42, shuffle=False)\n",
    "\n",
    "# define lgbm parameters\n",
    "lgbm_params_smote = {'lgbm__num_leaves': np.arange(100,500,100),\n",
    "               'lgbm__min_child_weight': np.arange(0.01,1,0.01)}   \n",
    "\n",
    "# define pipeline\n",
    "pipeline_lgbm = Pipeline([(\"smote\", SMOTE()), (\"lgbm\", LGBMClassifier(class_weight={0:0.01,1:0.99}))])\n",
    "# smote to the training folds, and not to the validation fold\n",
    "lgbm_rcv_smote = RandomizedSearchCV(pipeline_lgbm, lgbm_params_smote, scoring='f1', n_jobs=-1, cv=kf).fit(X_train, y_train)\n",
    "\n",
    "# model evaluation \n",
    "evaluate(lgbm_rcv_smote, X_train, X_test, y_train, y_test)\n",
    "# plot confusion matrix\n",
    "plot_confusion_matrix(lgbm_rcv_smote, X_test, y_test)"
   ]
  },
  {
   "cell_type": "markdown",
   "metadata": {},
   "source": [
    "### SMOTE for XGB Calssifier"
   ]
  },
  {
   "cell_type": "code",
   "execution_count": null,
   "metadata": {},
   "outputs": [],
   "source": []
  },
  {
   "cell_type": "markdown",
   "metadata": {},
   "source": [
    "### Random Oversampling"
   ]
  },
  {
   "cell_type": "code",
   "execution_count": 51,
   "metadata": {},
   "outputs": [
    {
     "name": "stdout",
     "output_type": "stream",
     "text": [
      "TRAINIG RESULTS: \n",
      "===============================\n",
      "ACCURACY SCORE:0.9382\n",
      "CONFUSION MATRIX:\n",
      "[[25969  1852]\n",
      " [    1  2178]]\n",
      "CLASSIFICATION REPORT:\n",
      "                 0       1  accuracy  macro avg  weighted avg\n",
      "precision     1.00    0.54      0.94       0.77          0.97\n",
      "recall        0.93    1.00      0.94       0.97          0.94\n",
      "f1-score      0.97    0.70      0.94       0.83          0.95\n",
      "support   27821.00 2179.00      0.94   30000.00      30000.00\n",
      "\n",
      "\n",
      "TESTING RESULTS: \n",
      "===============================\n",
      "ACCURACY SCORE:0.9009\n",
      "CONFUSION MATRIX:\n",
      "[[8467  816]\n",
      " [ 175  542]]\n",
      "F1-score:  0.5224\n",
      "Best Score:  0.5348\n",
      "Test ROC AUC: 0.9342 \n",
      "\n",
      "Best Parameters:  {'lgbm__num_leaves': 100, 'lgbm__min_child_weight': 0.45}\n",
      "CLASSIFICATION REPORT:\n",
      "                0      1  accuracy  macro avg  weighted avg\n",
      "precision    0.98   0.40      0.90       0.69          0.94\n",
      "recall       0.91   0.76      0.90       0.83          0.90\n",
      "f1-score     0.94   0.52      0.90       0.73          0.91\n",
      "support   9283.00 717.00      0.90   10000.00      10000.00\n"
     ]
    },
    {
     "data": {
      "image/png": "[encoded data removed]",
      "text/plain": [
       "<Figure size 432x288 with 1 Axes>"
      ]
     },
     "metadata": {
      "needs_background": "light"
     },
     "output_type": "display_data"
    },
    {
     "data": {
      "text/plain": [
       "<sklearn.metrics._plot.confusion_matrix.ConfusionMatrixDisplay at 0x7fbc4e2e2510>"
      ]
     },
     "execution_count": 51,
     "metadata": {},
     "output_type": "execute_result"
    },
    {
     "data": {
      "image/png": "[encoded data removed]",
      "text/plain": [
       "<Figure size 432x288 with 2 Axes>"
      ]
     },
     "metadata": {
      "needs_background": "light"
     },
     "output_type": "display_data"
    }
   ],
   "source": [
    "# define pipeline\n",
    "pipeline_lgbm_over = Pipeline([('over', RandomOverSampler()), (\"lgbm\", LGBMClassifier())])\n",
    "# smote to the training folds, and not to the validation fold\n",
    "lgbm_rcv_over = RandomizedSearchCV(pipeline_lgbm_over, lgbm_params_smote, scoring='f1', n_jobs=-1, cv=kf).fit(X_train_rfe, y_train)\n",
    "\n",
    "# model evaluation \n",
    "evaluate(lgbm_rcv_over, X_train_rfe, X_test_rfe, y_train, y_test)\n",
    "# plot confusion matrix\n",
    "plot_confusion_matrix(lgbm_rcv_over, X_test_rfe, y_test)"
   ]
  },
  {
   "cell_type": "markdown",
   "metadata": {},
   "source": [
    "### Random Undersampling"
   ]
  },
  {
   "cell_type": "code",
   "execution_count": 50,
   "metadata": {},
   "outputs": [
    {
     "name": "stdout",
     "output_type": "stream",
     "text": [
      "TRAINIG RESULTS: \n",
      "===============================\n",
      "ACCURACY SCORE:0.8636\n",
      "CONFUSION MATRIX:\n",
      "[[23730  4091]\n",
      " [    0  2179]]\n",
      "CLASSIFICATION REPORT:\n",
      "                 0       1  accuracy  macro avg  weighted avg\n",
      "precision     1.00    0.35      0.86       0.67          0.95\n",
      "recall        0.85    1.00      0.86       0.93          0.86\n",
      "f1-score      0.92    0.52      0.86       0.72          0.89\n",
      "support   27821.00 2179.00      0.86   30000.00      30000.00\n",
      "\n",
      "\n",
      "TESTING RESULTS: \n",
      "===============================\n",
      "ACCURACY SCORE:0.8442\n",
      "CONFUSION MATRIX:\n",
      "[[7803 1480]\n",
      " [  78  639]]\n",
      "F1-score:  0.4506\n",
      "Best Score:  0.4685\n",
      "Test ROC AUC: 0.9299 \n",
      "\n",
      "Best Parameters:  {'lgbm__num_leaves': 200, 'lgbm__min_child_weight': 0.76}\n",
      "CLASSIFICATION REPORT:\n",
      "                0      1  accuracy  macro avg  weighted avg\n",
      "precision    0.99   0.30      0.84       0.65          0.94\n",
      "recall       0.84   0.89      0.84       0.87          0.84\n",
      "f1-score     0.91   0.45      0.84       0.68          0.88\n",
      "support   9283.00 717.00      0.84   10000.00      10000.00\n"
     ]
    },
    {
     "data": {
      "image/png": "[encoded data removed]",
      "text/plain": [
       "<Figure size 432x288 with 1 Axes>"
      ]
     },
     "metadata": {
      "needs_background": "light"
     },
     "output_type": "display_data"
    },
    {
     "data": {
      "text/plain": [
       "<sklearn.metrics._plot.confusion_matrix.ConfusionMatrixDisplay at 0x7fbc75f0c390>"
      ]
     },
     "execution_count": 50,
     "metadata": {},
     "output_type": "execute_result"
    },
    {
     "data": {
      "image/png": "[encoded data removed]",
      "text/plain": [
       "<Figure size 432x288 with 2 Axes>"
      ]
     },
     "metadata": {
      "needs_background": "light"
     },
     "output_type": "display_data"
    }
   ],
   "source": [
    "# define pipeline\n",
    "pipeline_lgbm_under = Pipeline([('under', RandomUnderSampler()), (\"lgbm\", LGBMClassifier())])\n",
    "# smote to the training folds, and not to the validation fold\n",
    "lgbm_rcv_under = RandomizedSearchCV(pipeline_lgbm_under, lgbm_params_smote, scoring='f1', n_jobs=-1, cv=kf).fit(X_train_rfe, y_train)\n",
    "\n",
    "# model evaluation \n",
    "evaluate(lgbm_rcv_under, X_train_rfe, X_test_rfe, y_train, y_test)\n",
    "# plot confusion matrix\n",
    "plot_confusion_matrix(lgbm_rcv_under, X_test_rfe, y_test)"
   ]
  },
  {
   "cell_type": "markdown",
   "metadata": {},
   "source": [
    "### Combining both Oversampling and Undersampling "
   ]
  },
  {
   "cell_type": "code",
   "execution_count": 42,
   "metadata": {},
   "outputs": [
    {
     "name": "stdout",
     "output_type": "stream",
     "text": [
      "TRAINIG RESULTS: \n",
      "===============================\n",
      "ACCURACY SCORE:0.9307\n",
      "CONFUSION MATRIX:\n",
      "[[25743  2078]\n",
      " [    0  2179]]\n",
      "CLASSIFICATION REPORT:\n",
      "                 0       1  accuracy  macro avg  weighted avg\n",
      "precision     1.00    0.51      0.93       0.76          0.96\n",
      "recall        0.93    1.00      0.93       0.96          0.93\n",
      "f1-score      0.96    0.68      0.93       0.82          0.94\n",
      "support   27821.00 2179.00      0.93   30000.00      30000.00\n",
      "\n",
      "\n",
      "TESTING RESULTS: \n",
      "===============================\n",
      "ACCURACY SCORE:0.8978\n",
      "CONFUSION MATRIX:\n",
      "[[8428  855]\n",
      " [ 167  550]]\n",
      "F1-score:  0.5184\n",
      "Best Score:  0.5245\n",
      "Test ROC AUC: 0.9315 \n",
      "\n",
      "Best Parameters:  {'lgbm__num_leaves': 400, 'lgbm__min_child_weight': 0.54}\n",
      "CLASSIFICATION REPORT:\n",
      "                0      1  accuracy  macro avg  weighted avg\n",
      "precision    0.98   0.39      0.90       0.69          0.94\n",
      "recall       0.91   0.77      0.90       0.84          0.90\n",
      "f1-score     0.94   0.52      0.90       0.73          0.91\n",
      "support   9283.00 717.00      0.90   10000.00      10000.00\n"
     ]
    },
    {
     "data": {
      "image/png": "[encoded data removed]",
      "text/plain": [
       "<Figure size 432x288 with 1 Axes>"
      ]
     },
     "metadata": {
      "needs_background": "light"
     },
     "output_type": "display_data"
    },
    {
     "data": {
      "text/plain": [
       "<sklearn.metrics._plot.confusion_matrix.ConfusionMatrixDisplay at 0x7fbc4a8221d0>"
      ]
     },
     "execution_count": 42,
     "metadata": {},
     "output_type": "execute_result"
    },
    {
     "data": {
      "image/png": "[encoded data removed]",
      "text/plain": [
       "<Figure size 432x288 with 2 Axes>"
      ]
     },
     "metadata": {
      "needs_background": "light"
     },
     "output_type": "display_data"
    }
   ],
   "source": [
    "# oversampling applied to minority class with sampling_strategy set to 0.1 (10%) and undersampling with sampling_strategy set to 0.5 (50%)\n",
    "# define pipeline\n",
    "over = RandomOverSampler(sampling_strategy=0.1)\n",
    "under = RandomUnderSampler(sampling_strategy=0.5)\n",
    "\n",
    "# define pipeline\n",
    "pipeline_lgbm_combine = Pipeline([('o', over), ('u', under), (\"lgbm\", LGBMClassifier())])\n",
    "# smote to the training folds, and not to the validation fold\n",
    "lgbm_rcv_combine = RandomizedSearchCV(pipeline_lgbm_combine, lgbm_params_smote, scoring='f1', n_jobs=-1, cv=kf).fit(X_train, y_train)\n",
    "\n",
    "# model evaluation \n",
    "evaluate(lgbm_rcv_combine, X_train, X_test, y_train, y_test)\n",
    "# plot confusion matrix\n",
    "plot_confusion_matrix(lgbm_rcv_combine, X_test, y_test)"
   ]
  },
  {
   "cell_type": "code",
   "execution_count": 73,
   "metadata": {},
   "outputs": [
    {
     "name": "stdout",
     "output_type": "stream",
     "text": [
      "TRAINIG RESULTS: \n",
      "===============================\n",
      "ACCURACY SCORE:0.9537\n",
      "CONFUSION MATRIX:\n",
      "[[26431  1390]\n",
      " [    0  2179]]\n",
      "CLASSIFICATION REPORT:\n",
      "                 0       1  accuracy  macro avg  weighted avg\n",
      "precision     1.00    0.61      0.95       0.81          0.97\n",
      "recall        0.95    1.00      0.95       0.98          0.95\n",
      "f1-score      0.97    0.76      0.95       0.87          0.96\n",
      "support   27821.00 2179.00      0.95   30000.00      30000.00\n",
      "\n",
      "\n",
      "TESTING RESULTS: \n",
      "===============================\n",
      "ACCURACY SCORE:0.9065\n",
      "CONFUSION MATRIX:\n",
      "[[8528  755]\n",
      " [ 180  537]]\n",
      "F1-score:  0.5346\n",
      "Best Score:  0.5301\n",
      "Test ROC AUC: 0.9307 \n",
      "\n",
      "Best Parameters:  {'lgbm__num_leaves': 300, 'lgbm__min_child_weight': 0.18000000000000002}\n",
      "CLASSIFICATION REPORT:\n",
      "                0      1  accuracy  macro avg  weighted avg\n",
      "precision    0.98   0.42      0.91       0.70          0.94\n",
      "recall       0.92   0.75      0.91       0.83          0.91\n",
      "f1-score     0.95   0.53      0.91       0.74          0.92\n",
      "support   9283.00 717.00      0.91   10000.00      10000.00\n"
     ]
    },
    {
     "data": {
      "image/png": "[encoded data removed]",
      "text/plain": [
       "<Figure size 432x288 with 1 Axes>"
      ]
     },
     "metadata": {
      "needs_background": "light"
     },
     "output_type": "display_data"
    },
    {
     "data": {
      "text/plain": [
       "<sklearn.metrics._plot.confusion_matrix.ConfusionMatrixDisplay at 0x7fbc4af77110>"
      ]
     },
     "execution_count": 73,
     "metadata": {},
     "output_type": "execute_result"
    },
    {
     "data": {
      "image/png": "[encoded data removed]",
      "text/plain": [
       "<Figure size 432x288 with 2 Axes>"
      ]
     },
     "metadata": {
      "needs_background": "light"
     },
     "output_type": "display_data"
    }
   ],
   "source": [
    "# Standardizing the splits to get consistent results (CV= 5/10 we get different results each time)\n",
    "kf = KFold(n_splits=5, random_state=42, shuffle=False)\n",
    "\n",
    "# define lgbm parameters\n",
    "lgbm_params_smote = {'lgbm__num_leaves': np.arange(100,500,100),\n",
    "               'lgbm__min_child_weight': np.arange(0.01,1,0.01)}   \n",
    "\n",
    "# define pipeline\n",
    "pipeline_lgbm = Pipeline([(\"smote\", SMOTE()), (\"lgbm\", LGBMClassifier(class_weight={0:0.02,1:0.98}))])\n",
    "# smote to the training folds, and not to the validation fold\n",
    "lgbm_rcv_smote = RandomizedSearchCV(pipeline_lgbm, lgbm_params_smote, scoring='f1', n_jobs=-1, cv=kf).fit(X_train, y_train)\n",
    "\n",
    "# model evaluation \n",
    "evaluate(lgbm_rcv_smote, X_train, X_test, y_train, y_test)\n",
    "# plot confusion matrix\n",
    "plot_confusion_matrix(lgbm_rcv_smote, X_test, y_test)"
   ]
  },
  {
   "cell_type": "markdown",
   "metadata": {},
   "source": [
    "### Feature Importance"
   ]
  },
  {
   "cell_type": "code",
   "execution_count": 55,
   "metadata": {},
   "outputs": [
    {
     "data": {
      "text/html": [
       "<div>\n",
       "<style scoped>\n",
       "    .dataframe tbody tr th:only-of-type {\n",
       "        vertical-align: middle;\n",
       "    }\n",
       "\n",
       "    .dataframe tbody tr th {\n",
       "        vertical-align: top;\n",
       "    }\n",
       "\n",
       "    .dataframe thead th {\n",
       "        text-align: right;\n",
       "    }\n",
       "</style>\n",
       "<table border=\"1\" class=\"dataframe\">\n",
       "  <thead>\n",
       "    <tr style=\"text-align: right;\">\n",
       "      <th></th>\n",
       "      <th>importance</th>\n",
       "    </tr>\n",
       "  </thead>\n",
       "  <tbody>\n",
       "    <tr>\n",
       "      <th>duration</th>\n",
       "      <td>670</td>\n",
       "    </tr>\n",
       "    <tr>\n",
       "      <th>avg_yearly_balance</th>\n",
       "      <td>609</td>\n",
       "    </tr>\n",
       "    <tr>\n",
       "      <th>age</th>\n",
       "      <td>470</td>\n",
       "    </tr>\n",
       "    <tr>\n",
       "      <th>housing_loan</th>\n",
       "      <td>90</td>\n",
       "    </tr>\n",
       "    <tr>\n",
       "      <th>month_may</th>\n",
       "      <td>82</td>\n",
       "    </tr>\n",
       "    <tr>\n",
       "      <th>contact_unknown</th>\n",
       "      <td>77</td>\n",
       "    </tr>\n",
       "    <tr>\n",
       "      <th>month_nov</th>\n",
       "      <td>66</td>\n",
       "    </tr>\n",
       "    <tr>\n",
       "      <th>month_jul</th>\n",
       "      <td>62</td>\n",
       "    </tr>\n",
       "    <tr>\n",
       "      <th>month_aug</th>\n",
       "      <td>60</td>\n",
       "    </tr>\n",
       "    <tr>\n",
       "      <th>education_tertiary</th>\n",
       "      <td>54</td>\n",
       "    </tr>\n",
       "    <tr>\n",
       "      <th>contact_cellular</th>\n",
       "      <td>52</td>\n",
       "    </tr>\n",
       "    <tr>\n",
       "      <th>marital_married</th>\n",
       "      <td>50</td>\n",
       "    </tr>\n",
       "    <tr>\n",
       "      <th>month_jun</th>\n",
       "      <td>49</td>\n",
       "    </tr>\n",
       "    <tr>\n",
       "      <th>month_jan</th>\n",
       "      <td>48</td>\n",
       "    </tr>\n",
       "    <tr>\n",
       "      <th>month_apr</th>\n",
       "      <td>44</td>\n",
       "    </tr>\n",
       "    <tr>\n",
       "      <th>education_secondary</th>\n",
       "      <td>43</td>\n",
       "    </tr>\n",
       "    <tr>\n",
       "      <th>month_oct</th>\n",
       "      <td>42</td>\n",
       "    </tr>\n",
       "    <tr>\n",
       "      <th>job_technician</th>\n",
       "      <td>42</td>\n",
       "    </tr>\n",
       "    <tr>\n",
       "      <th>month_mar</th>\n",
       "      <td>37</td>\n",
       "    </tr>\n",
       "    <tr>\n",
       "      <th>job_admin</th>\n",
       "      <td>34</td>\n",
       "    </tr>\n",
       "    <tr>\n",
       "      <th>job_blue-collar</th>\n",
       "      <td>34</td>\n",
       "    </tr>\n",
       "    <tr>\n",
       "      <th>job_management</th>\n",
       "      <td>34</td>\n",
       "    </tr>\n",
       "    <tr>\n",
       "      <th>marital_single</th>\n",
       "      <td>34</td>\n",
       "    </tr>\n",
       "    <tr>\n",
       "      <th>personal_loan</th>\n",
       "      <td>31</td>\n",
       "    </tr>\n",
       "    <tr>\n",
       "      <th>education_primary</th>\n",
       "      <td>30</td>\n",
       "    </tr>\n",
       "    <tr>\n",
       "      <th>education_unknown</th>\n",
       "      <td>23</td>\n",
       "    </tr>\n",
       "    <tr>\n",
       "      <th>marital_divorced</th>\n",
       "      <td>23</td>\n",
       "    </tr>\n",
       "    <tr>\n",
       "      <th>month_feb</th>\n",
       "      <td>21</td>\n",
       "    </tr>\n",
       "    <tr>\n",
       "      <th>job_services</th>\n",
       "      <td>18</td>\n",
       "    </tr>\n",
       "    <tr>\n",
       "      <th>job_housemaid</th>\n",
       "      <td>13</td>\n",
       "    </tr>\n",
       "    <tr>\n",
       "      <th>contact_telephone</th>\n",
       "      <td>10</td>\n",
       "    </tr>\n",
       "    <tr>\n",
       "      <th>job_unemployed</th>\n",
       "      <td>9</td>\n",
       "    </tr>\n",
       "    <tr>\n",
       "      <th>credit_default</th>\n",
       "      <td>9</td>\n",
       "    </tr>\n",
       "    <tr>\n",
       "      <th>job_entrepreneur</th>\n",
       "      <td>8</td>\n",
       "    </tr>\n",
       "    <tr>\n",
       "      <th>job_self-employed</th>\n",
       "      <td>7</td>\n",
       "    </tr>\n",
       "    <tr>\n",
       "      <th>job_student</th>\n",
       "      <td>6</td>\n",
       "    </tr>\n",
       "    <tr>\n",
       "      <th>job_unknown</th>\n",
       "      <td>5</td>\n",
       "    </tr>\n",
       "    <tr>\n",
       "      <th>job_retired</th>\n",
       "      <td>4</td>\n",
       "    </tr>\n",
       "    <tr>\n",
       "      <th>month_dec</th>\n",
       "      <td>0</td>\n",
       "    </tr>\n",
       "  </tbody>\n",
       "</table>\n",
       "</div>"
      ],
      "text/plain": [
       "                     importance\n",
       "duration                    670\n",
       "avg_yearly_balance          609\n",
       "age                         470\n",
       "housing_loan                 90\n",
       "month_may                    82\n",
       "contact_unknown              77\n",
       "month_nov                    66\n",
       "month_jul                    62\n",
       "month_aug                    60\n",
       "education_tertiary           54\n",
       "contact_cellular             52\n",
       "marital_married              50\n",
       "month_jun                    49\n",
       "month_jan                    48\n",
       "month_apr                    44\n",
       "education_secondary          43\n",
       "month_oct                    42\n",
       "job_technician               42\n",
       "month_mar                    37\n",
       "job_admin                    34\n",
       "job_blue-collar              34\n",
       "job_management               34\n",
       "marital_single               34\n",
       "personal_loan                31\n",
       "education_primary            30\n",
       "education_unknown            23\n",
       "marital_divorced             23\n",
       "month_feb                    21\n",
       "job_services                 18\n",
       "job_housemaid                13\n",
       "contact_telephone            10\n",
       "job_unemployed                9\n",
       "credit_default                9\n",
       "job_entrepreneur              8\n",
       "job_self-employed             7\n",
       "job_student                   6\n",
       "job_unknown                   5\n",
       "job_retired                   4\n",
       "month_dec                     0"
      ]
     },
     "execution_count": 55,
     "metadata": {},
     "output_type": "execute_result"
    }
   ],
   "source": [
    "# Instantiate and fit the lgbm model. \n",
    "lgbm_feature = LGBMClassifier().fit(X_train, y_train) \n",
    "\n",
    "# Explore feature importances\n",
    "feature_importances = pd.DataFrame(lgbm_feature.feature_importances_,\n",
    "                                   index = X_train.columns,\n",
    "                                    columns=['importance']).sort_values('importance', ascending=False)\n",
    "# Print sorted list of feature importances\n",
    "feature_importances"
   ]
  },
  {
   "cell_type": "markdown",
   "metadata": {},
   "source": [
    "## Conclusion:\n",
    "\n",
    "This is a supervised machine learning classification algorithms to predict if a customer will subscribe to the term deposit or not. From the EDA, I saw only 7 % of customers who subscribed to the term deposit and 93% of customers didn't subscribe. So the dataset is highly imbalanced. The customers who subscribed are the minority class and the customers who didn't subscribe are the majority class.\n",
    "\n",
    "I build classification models to predict which customers will subscribe the plan, so our goal is to predict the minority class. I used the LazyPredict library to build different models. Based on the LazyClassifier output, I selected 5 classifiers for this classification problem: Logistic Regression,Random Forest, XGBoost, LGBM,and KNN classifiers. I did feature selection using Recursive Feature Selection (RFE). Based on the RFE feature ranking, I removed the some of the low ranking features from the training data and train the model.\n",
    "\n",
    "To address the imbalanced classification problem I used SMOTE, Random Oversampling and Under sampling and combination of both Oversampling and Undersampling. However my prediction for minority class was not very good.To further improve the minority class prediction I added class_weight to the models. Based on the confusion matrix of the Logistic regression classifier instead of 10,000 call we only have to call 5270 customers and among them 704 customers will subscribe to the term deposit. The model is mispredicting only 13 customers as subscribers. \n",
    "\n",
    "The four most important features in this dataset are 'duration', 'avg_yearly_balance', 'age', 'housing_loan'. The feature 'duration has highest importance value. The customers who are interested about the plan might have talked about the plan for longer time. The customers who has higher average yearly balance are more likely to subscribe the plan.\n",
    "\n",
    "\n",
    "\n",
    "Calculate no. of total call duration, before 10,000 calls in the test set. average call duration 3 minutes, able to reduce to call duration from ..."
   ]
  }
 ],
 "metadata": {
  "kernelspec": {
   "display_name": "Python 3",
   "language": "python",
   "name": "python3"
  },
  "language_info": {
   "codemirror_mode": {
    "name": "ipython",
    "version": 3
   },
   "file_extension": ".py",
   "mimetype": "text/x-python",
   "name": "python",
   "nbconvert_exporter": "python",
   "pygments_lexer": "ipython3",
   "version": "3.7.6"
  }
 },
 "nbformat": 4,
 "nbformat_minor": 4
}
